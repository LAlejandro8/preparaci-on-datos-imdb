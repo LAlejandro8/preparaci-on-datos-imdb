{
  "nbformat": 4,
  "nbformat_minor": 0,
  "metadata": {
    "colab": {
      "name": "Preparacion-de-los-datos-imdb.ipynb",
      "provenance": [],
      "collapsed_sections": [],
      "authorship_tag": "ABX9TyMIuMlK5PQkcjitdnpXHUGh",
      "include_colab_link": true
    },
    "kernelspec": {
      "name": "python3",
      "display_name": "Python 3"
    }
  },
  "cells": [
    {
      "cell_type": "markdown",
      "metadata": {
        "id": "view-in-github",
        "colab_type": "text"
      },
      "source": [
        "<a href=\"https://colab.research.google.com/github/LAlejandro8/preparaci-on-datos-imdb/blob/master/Preparacion_de_los_datos_imdb.ipynb\" target=\"_parent\"><img src=\"https://colab.research.google.com/assets/colab-badge.svg\" alt=\"Open In Colab\"/></a>"
      ]
    },
    {
      "cell_type": "code",
      "metadata": {
        "id": "FsRWs3mx7huj",
        "colab_type": "code",
        "colab": {}
      },
      "source": [
        "# Importamos las librerias\n",
        "import numpy as np\n",
        "import pandas as pd\n",
        "# import pandas.util.testing as tm\n",
        "import matplotlib.pyplot as plt # Graficos\n",
        "import seaborn as sb # Graficos estadisticos"
      ],
      "execution_count": 0,
      "outputs": []
    },
    {
      "cell_type": "code",
      "metadata": {
        "id": "eEQwLhyN8EjJ",
        "colab_type": "code",
        "colab": {}
      },
      "source": [
        "# Esta linea permite que los graficos sean renderizados directamente en nuestro Notebook\n",
        "## Carguemos en un pandas dataframe nuestra base de datos\n",
        "%matplotlib inline"
      ],
      "execution_count": 0,
      "outputs": []
    },
    {
      "cell_type": "markdown",
      "metadata": {
        "id": "9CiNAyLY8KG2",
        "colab_type": "text"
      },
      "source": [
        "**Carguemos en un pandas dataframe nuestra base de datos**"
      ]
    },
    {
      "cell_type": "markdown",
      "metadata": {
        "id": "XfifGyc-8QJK",
        "colab_type": "text"
      },
      "source": [
        "pd.read_csv es el metodo que nos permite importar los datos desde un CSV y cargarlo en un **DataFrame**, que es la estructura de base de Pandas"
      ]
    },
    {
      "cell_type": "code",
      "metadata": {
        "id": "cuGr63Ql8Mjw",
        "colab_type": "code",
        "colab": {}
      },
      "source": [
        "movies = pd.read_csv('https://raw.githubusercontent.com/LAlejandro8/datasets-platzi-course/master/datasets/peliculas.csv',encoding='utf-8')\n"
      ],
      "execution_count": 0,
      "outputs": []
    },
    {
      "cell_type": "code",
      "metadata": {
        "id": "uP0NNEDD8jNM",
        "colab_type": "code",
        "outputId": "3b191cb3-fc39-4217-8ec3-4043735cafa9",
        "colab": {
          "base_uri": "https://localhost:8080/",
          "height": 34
        }
      },
      "source": [
        "type(movies)"
      ],
      "execution_count": 0,
      "outputs": [
        {
          "output_type": "execute_result",
          "data": {
            "text/plain": [
              "pandas.core.frame.DataFrame"
            ]
          },
          "metadata": {
            "tags": []
          },
          "execution_count": 7
        }
      ]
    },
    {
      "cell_type": "code",
      "metadata": {
        "id": "lVscQb3y8nVr",
        "colab_type": "code",
        "outputId": "1c42c22f-71db-4961-e71f-a37ebbf81c0a",
        "colab": {
          "base_uri": "https://localhost:8080/",
          "height": 360
        }
      },
      "source": [
        "movies.head()"
      ],
      "execution_count": 0,
      "outputs": [
        {
          "output_type": "execute_result",
          "data": {
            "text/html": [
              "<div>\n",
              "<style scoped>\n",
              "    .dataframe tbody tr th:only-of-type {\n",
              "        vertical-align: middle;\n",
              "    }\n",
              "\n",
              "    .dataframe tbody tr th {\n",
              "        vertical-align: top;\n",
              "    }\n",
              "\n",
              "    .dataframe thead th {\n",
              "        text-align: right;\n",
              "    }\n",
              "</style>\n",
              "<table border=\"1\" class=\"dataframe\">\n",
              "  <thead>\n",
              "    <tr style=\"text-align: right;\">\n",
              "      <th></th>\n",
              "      <th>movie_title</th>\n",
              "      <th>title_year</th>\n",
              "      <th>color</th>\n",
              "      <th>aspect_ratio</th>\n",
              "      <th>duration</th>\n",
              "      <th>language</th>\n",
              "      <th>country</th>\n",
              "      <th>duration.1</th>\n",
              "      <th>genres</th>\n",
              "      <th>content_rating</th>\n",
              "      <th>plot_keywords</th>\n",
              "      <th>director_name</th>\n",
              "      <th>actor_1_name</th>\n",
              "      <th>actor_2_name</th>\n",
              "      <th>actor_3_name</th>\n",
              "      <th>cast_total_facebook_likes</th>\n",
              "      <th>budget</th>\n",
              "      <th>imdb_score</th>\n",
              "      <th>gross</th>\n",
              "    </tr>\n",
              "  </thead>\n",
              "  <tbody>\n",
              "    <tr>\n",
              "      <th>0</th>\n",
              "      <td>Avatar</td>\n",
              "      <td>2009.0</td>\n",
              "      <td>Color</td>\n",
              "      <td>1.78</td>\n",
              "      <td>178.0</td>\n",
              "      <td>English</td>\n",
              "      <td>USA</td>\n",
              "      <td>178.0</td>\n",
              "      <td>Action|Adventure|Fantasy|Sci-Fi</td>\n",
              "      <td>PG-13</td>\n",
              "      <td>avatar|future|marine|native|paraplegic</td>\n",
              "      <td>James Cameron</td>\n",
              "      <td>CCH Pounder</td>\n",
              "      <td>Joel David Moore</td>\n",
              "      <td>Wes Studi</td>\n",
              "      <td>4834</td>\n",
              "      <td>237000000.0</td>\n",
              "      <td>7.9</td>\n",
              "      <td>760505847.0</td>\n",
              "    </tr>\n",
              "    <tr>\n",
              "      <th>1</th>\n",
              "      <td>Pirates of the Caribbean: At World's End</td>\n",
              "      <td>2007.0</td>\n",
              "      <td>Color</td>\n",
              "      <td>2.35</td>\n",
              "      <td>169.0</td>\n",
              "      <td>English</td>\n",
              "      <td>USA</td>\n",
              "      <td>169.0</td>\n",
              "      <td>Action|Adventure|Fantasy</td>\n",
              "      <td>PG-13</td>\n",
              "      <td>goddess|marriage ceremony|marriage proposal|pi...</td>\n",
              "      <td>Gore Verbinski</td>\n",
              "      <td>Johnny Depp</td>\n",
              "      <td>Orlando Bloom</td>\n",
              "      <td>Jack Davenport</td>\n",
              "      <td>48350</td>\n",
              "      <td>300000000.0</td>\n",
              "      <td>7.1</td>\n",
              "      <td>309404152.0</td>\n",
              "    </tr>\n",
              "    <tr>\n",
              "      <th>2</th>\n",
              "      <td>Spectre</td>\n",
              "      <td>2015.0</td>\n",
              "      <td>Color</td>\n",
              "      <td>2.35</td>\n",
              "      <td>148.0</td>\n",
              "      <td>English</td>\n",
              "      <td>UK</td>\n",
              "      <td>148.0</td>\n",
              "      <td>Action|Adventure|Thriller</td>\n",
              "      <td>PG-13</td>\n",
              "      <td>bomb|espionage|sequel|spy|terrorist</td>\n",
              "      <td>Sam Mendes</td>\n",
              "      <td>Christoph Waltz</td>\n",
              "      <td>Rory Kinnear</td>\n",
              "      <td>Stephanie Sigman</td>\n",
              "      <td>11700</td>\n",
              "      <td>245000000.0</td>\n",
              "      <td>6.8</td>\n",
              "      <td>200074175.0</td>\n",
              "    </tr>\n",
              "    <tr>\n",
              "      <th>3</th>\n",
              "      <td>The Dark Knight Rises</td>\n",
              "      <td>2012.0</td>\n",
              "      <td>Color</td>\n",
              "      <td>2.35</td>\n",
              "      <td>164.0</td>\n",
              "      <td>English</td>\n",
              "      <td>USA</td>\n",
              "      <td>164.0</td>\n",
              "      <td>Action|Thriller</td>\n",
              "      <td>PG-13</td>\n",
              "      <td>deception|imprisonment|lawlessness|police offi...</td>\n",
              "      <td>Christopher Nolan</td>\n",
              "      <td>Tom Hardy</td>\n",
              "      <td>Christian Bale</td>\n",
              "      <td>Joseph Gordon-Levitt</td>\n",
              "      <td>106759</td>\n",
              "      <td>250000000.0</td>\n",
              "      <td>8.5</td>\n",
              "      <td>448130642.0</td>\n",
              "    </tr>\n",
              "    <tr>\n",
              "      <th>4</th>\n",
              "      <td>Star Wars: Episode VII - The Force Awakens    ...</td>\n",
              "      <td>NaN</td>\n",
              "      <td>NaN</td>\n",
              "      <td>NaN</td>\n",
              "      <td>NaN</td>\n",
              "      <td>NaN</td>\n",
              "      <td>NaN</td>\n",
              "      <td>NaN</td>\n",
              "      <td>Documentary</td>\n",
              "      <td>NaN</td>\n",
              "      <td>NaN</td>\n",
              "      <td>Doug Walker</td>\n",
              "      <td>Doug Walker</td>\n",
              "      <td>Rob Walker</td>\n",
              "      <td>NaN</td>\n",
              "      <td>143</td>\n",
              "      <td>NaN</td>\n",
              "      <td>7.1</td>\n",
              "      <td>NaN</td>\n",
              "    </tr>\n",
              "  </tbody>\n",
              "</table>\n",
              "</div>"
            ],
            "text/plain": [
              "                                         movie_title  ...        gross\n",
              "0                                            Avatar   ...  760505847.0\n",
              "1          Pirates of the Caribbean: At World's End   ...  309404152.0\n",
              "2                                           Spectre   ...  200074175.0\n",
              "3                             The Dark Knight Rises   ...  448130642.0\n",
              "4  Star Wars: Episode VII - The Force Awakens    ...  ...          NaN\n",
              "\n",
              "[5 rows x 19 columns]"
            ]
          },
          "metadata": {
            "tags": []
          },
          "execution_count": 8
        }
      ]
    },
    {
      "cell_type": "code",
      "metadata": {
        "id": "F2wr04KUQteb",
        "colab_type": "code",
        "outputId": "a630c8c7-f8b1-4ed8-91b0-256f8c8ac509",
        "colab": {
          "base_uri": "https://localhost:8080/",
          "height": 34
        }
      },
      "source": [
        "# Tamaño de la tabla\n",
        "movies.shape"
      ],
      "execution_count": 0,
      "outputs": [
        {
          "output_type": "execute_result",
          "data": {
            "text/plain": [
              "(5043, 19)"
            ]
          },
          "metadata": {
            "tags": []
          },
          "execution_count": 9
        }
      ]
    },
    {
      "cell_type": "code",
      "metadata": {
        "id": "IT3n4iCR9wSK",
        "colab_type": "code",
        "outputId": "0375545e-c919-43b6-9052-fe8d8272e743",
        "colab": {
          "base_uri": "https://localhost:8080/",
          "height": 119
        }
      },
      "source": [
        "#visualizemos las columnas\n",
        "movies.columns"
      ],
      "execution_count": 0,
      "outputs": [
        {
          "output_type": "execute_result",
          "data": {
            "text/plain": [
              "Index(['movie_title', 'title_year', 'color', 'aspect_ratio', 'duration',\n",
              "       'language', 'country', 'duration.1', 'genres', 'content_rating',\n",
              "       'plot_keywords', 'director_name', 'actor_1_name', 'actor_2_name',\n",
              "       'actor_3_name', 'cast_total_facebook_likes', 'budget', 'imdb_score',\n",
              "       'gross'],\n",
              "      dtype='object')"
            ]
          },
          "metadata": {
            "tags": []
          },
          "execution_count": 10
        }
      ]
    },
    {
      "cell_type": "code",
      "metadata": {
        "id": "En7FuMKfRAcY",
        "colab_type": "code",
        "outputId": "a47c8057-eb9b-48af-af5c-e9c81efd12b2",
        "colab": {
          "base_uri": "https://localhost:8080/",
          "height": 34
        }
      },
      "source": [
        "movies.index"
      ],
      "execution_count": 0,
      "outputs": [
        {
          "output_type": "execute_result",
          "data": {
            "text/plain": [
              "RangeIndex(start=0, stop=5043, step=1)"
            ]
          },
          "metadata": {
            "tags": []
          },
          "execution_count": 11
        }
      ]
    },
    {
      "cell_type": "code",
      "metadata": {
        "id": "S_aRFXG2RDVI",
        "colab_type": "code",
        "outputId": "7ccc79d4-df80-4300-db2f-508d05bb3747",
        "colab": {
          "base_uri": "https://localhost:8080/",
          "height": 119
        }
      },
      "source": [
        "columna1 = movies['movie_title']\n",
        "columna1.head()"
      ],
      "execution_count": 0,
      "outputs": [
        {
          "output_type": "execute_result",
          "data": {
            "text/plain": [
              "0                                              Avatar \n",
              "1            Pirates of the Caribbean: At World's End \n",
              "2                                             Spectre \n",
              "3                               The Dark Knight Rises \n",
              "4    Star Wars: Episode VII - The Force Awakens    ...\n",
              "Name: movie_title, dtype: object"
            ]
          },
          "metadata": {
            "tags": []
          },
          "execution_count": 12
        }
      ]
    },
    {
      "cell_type": "code",
      "metadata": {
        "id": "jpqtcNiFRQZP",
        "colab_type": "code",
        "colab": {}
      },
      "source": [
        "# Agarramos todos los elementos de la linea No.10\n",
        "linea = movies.loc[10,:]"
      ],
      "execution_count": 0,
      "outputs": []
    },
    {
      "cell_type": "code",
      "metadata": {
        "id": "nJ9nSy9PRfC6",
        "colab_type": "code",
        "outputId": "31065e2f-2d75-40e1-e786-521be437695d",
        "colab": {
          "base_uri": "https://localhost:8080/",
          "height": 119
        }
      },
      "source": [
        "movies.loc[:,'movie_title'].head()"
      ],
      "execution_count": 0,
      "outputs": [
        {
          "output_type": "execute_result",
          "data": {
            "text/plain": [
              "0                                              Avatar \n",
              "1            Pirates of the Caribbean: At World's End \n",
              "2                                             Spectre \n",
              "3                               The Dark Knight Rises \n",
              "4    Star Wars: Episode VII - The Force Awakens    ...\n",
              "Name: movie_title, dtype: object"
            ]
          },
          "metadata": {
            "tags": []
          },
          "execution_count": 14
        }
      ]
    },
    {
      "cell_type": "code",
      "metadata": {
        "id": "CY-BNXTzR6EW",
        "colab_type": "code",
        "outputId": "4a240866-f6d5-4a17-aabd-550222cbd742",
        "colab": {
          "base_uri": "https://localhost:8080/",
          "height": 255
        }
      },
      "source": [
        "movies.info"
      ],
      "execution_count": 0,
      "outputs": [
        {
          "output_type": "execute_result",
          "data": {
            "text/plain": [
              "<bound method DataFrame.info of                                             movie_title  ...        gross\n",
              "0                                               Avatar   ...  760505847.0\n",
              "1             Pirates of the Caribbean: At World's End   ...  309404152.0\n",
              "2                                              Spectre   ...  200074175.0\n",
              "3                                The Dark Knight Rises   ...  448130642.0\n",
              "4     Star Wars: Episode VII - The Force Awakens    ...  ...          NaN\n",
              "...                                                 ...  ...          ...\n",
              "5038                           Signed Sealed Delivered   ...          NaN\n",
              "5039                         The Following               ...          NaN\n",
              "5040                              A Plague So Pleasant   ...          NaN\n",
              "5041                                  Shanghai Calling   ...      10443.0\n",
              "5042                                 My Date with Drew   ...      85222.0\n",
              "\n",
              "[5043 rows x 19 columns]>"
            ]
          },
          "metadata": {
            "tags": []
          },
          "execution_count": 15
        }
      ]
    },
    {
      "cell_type": "code",
      "metadata": {
        "id": "5NIEux02SraG",
        "colab_type": "code",
        "outputId": "bf328062-d6b8-4c35-a39c-e635552044ba",
        "colab": {
          "base_uri": "https://localhost:8080/",
          "height": 357
        }
      },
      "source": [
        "movies.dtypes"
      ],
      "execution_count": 0,
      "outputs": [
        {
          "output_type": "execute_result",
          "data": {
            "text/plain": [
              "movie_title                   object\n",
              "title_year                   float64\n",
              "color                         object\n",
              "aspect_ratio                 float64\n",
              "duration                     float64\n",
              "language                      object\n",
              "country                       object\n",
              "duration.1                   float64\n",
              "genres                        object\n",
              "content_rating                object\n",
              "plot_keywords                 object\n",
              "director_name                 object\n",
              "actor_1_name                  object\n",
              "actor_2_name                  object\n",
              "actor_3_name                  object\n",
              "cast_total_facebook_likes      int64\n",
              "budget                       float64\n",
              "imdb_score                   float64\n",
              "gross                        float64\n",
              "dtype: object"
            ]
          },
          "metadata": {
            "tags": []
          },
          "execution_count": 16
        }
      ]
    },
    {
      "cell_type": "code",
      "metadata": {
        "id": "v3QDOJk_S4oh",
        "colab_type": "code",
        "outputId": "d9e8a5b8-5038-496c-f911-bda76e3fe02d",
        "colab": {
          "base_uri": "https://localhost:8080/",
          "height": 357
        }
      },
      "source": [
        "movies.dtypes == float"
      ],
      "execution_count": 0,
      "outputs": [
        {
          "output_type": "execute_result",
          "data": {
            "text/plain": [
              "movie_title                  False\n",
              "title_year                    True\n",
              "color                        False\n",
              "aspect_ratio                  True\n",
              "duration                      True\n",
              "language                     False\n",
              "country                      False\n",
              "duration.1                    True\n",
              "genres                       False\n",
              "content_rating               False\n",
              "plot_keywords                False\n",
              "director_name                False\n",
              "actor_1_name                 False\n",
              "actor_2_name                 False\n",
              "actor_3_name                 False\n",
              "cast_total_facebook_likes    False\n",
              "budget                        True\n",
              "imdb_score                    True\n",
              "gross                         True\n",
              "dtype: bool"
            ]
          },
          "metadata": {
            "tags": []
          },
          "execution_count": 17
        }
      ]
    },
    {
      "cell_type": "code",
      "metadata": {
        "id": "8a1mXE5eS8ui",
        "colab_type": "code",
        "outputId": "5db07797-9d70-4452-83a8-b65278565d6d",
        "colab": {
          "base_uri": "https://localhost:8080/",
          "height": 357
        }
      },
      "source": [
        "(movies.dtypes == float) | (movies.dtypes == int)"
      ],
      "execution_count": 0,
      "outputs": [
        {
          "output_type": "execute_result",
          "data": {
            "text/plain": [
              "movie_title                  False\n",
              "title_year                    True\n",
              "color                        False\n",
              "aspect_ratio                  True\n",
              "duration                      True\n",
              "language                     False\n",
              "country                      False\n",
              "duration.1                    True\n",
              "genres                       False\n",
              "content_rating               False\n",
              "plot_keywords                False\n",
              "director_name                False\n",
              "actor_1_name                 False\n",
              "actor_2_name                 False\n",
              "actor_3_name                 False\n",
              "cast_total_facebook_likes     True\n",
              "budget                        True\n",
              "imdb_score                    True\n",
              "gross                         True\n",
              "dtype: bool"
            ]
          },
          "metadata": {
            "tags": []
          },
          "execution_count": 18
        }
      ]
    },
    {
      "cell_type": "code",
      "metadata": {
        "id": "-fqTr_IsTVVx",
        "colab_type": "code",
        "outputId": "8794f270-0c0d-4159-8f9f-1808b5d5a5a7",
        "colab": {
          "base_uri": "https://localhost:8080/",
          "height": 357
        }
      },
      "source": [
        "movies.dtypes == object"
      ],
      "execution_count": 0,
      "outputs": [
        {
          "output_type": "execute_result",
          "data": {
            "text/plain": [
              "movie_title                   True\n",
              "title_year                   False\n",
              "color                         True\n",
              "aspect_ratio                 False\n",
              "duration                     False\n",
              "language                      True\n",
              "country                       True\n",
              "duration.1                   False\n",
              "genres                        True\n",
              "content_rating                True\n",
              "plot_keywords                 True\n",
              "director_name                 True\n",
              "actor_1_name                  True\n",
              "actor_2_name                  True\n",
              "actor_3_name                  True\n",
              "cast_total_facebook_likes    False\n",
              "budget                       False\n",
              "imdb_score                   False\n",
              "gross                        False\n",
              "dtype: bool"
            ]
          },
          "metadata": {
            "tags": []
          },
          "execution_count": 19
        }
      ]
    },
    {
      "cell_type": "code",
      "metadata": {
        "id": "jDWOpq-kTiJg",
        "colab_type": "code",
        "outputId": "591696ff-e752-445b-b796-db0b0b601105",
        "colab": {
          "base_uri": "https://localhost:8080/",
          "height": 357
        }
      },
      "source": [
        "num = (movies.dtypes == float) | (movies.dtypes == int)\n",
        "num"
      ],
      "execution_count": 0,
      "outputs": [
        {
          "output_type": "execute_result",
          "data": {
            "text/plain": [
              "movie_title                  False\n",
              "title_year                    True\n",
              "color                        False\n",
              "aspect_ratio                  True\n",
              "duration                      True\n",
              "language                     False\n",
              "country                      False\n",
              "duration.1                    True\n",
              "genres                       False\n",
              "content_rating               False\n",
              "plot_keywords                False\n",
              "director_name                False\n",
              "actor_1_name                 False\n",
              "actor_2_name                 False\n",
              "actor_3_name                 False\n",
              "cast_total_facebook_likes     True\n",
              "budget                        True\n",
              "imdb_score                    True\n",
              "gross                         True\n",
              "dtype: bool"
            ]
          },
          "metadata": {
            "tags": []
          },
          "execution_count": 20
        }
      ]
    },
    {
      "cell_type": "code",
      "metadata": {
        "id": "pIAShRN0TxzV",
        "colab_type": "code",
        "outputId": "7e3d7067-a7d1-48b4-eef2-d65e10be4f28",
        "colab": {
          "base_uri": "https://localhost:8080/",
          "height": 119
        }
      },
      "source": [
        "num.index"
      ],
      "execution_count": 0,
      "outputs": [
        {
          "output_type": "execute_result",
          "data": {
            "text/plain": [
              "Index(['movie_title', 'title_year', 'color', 'aspect_ratio', 'duration',\n",
              "       'language', 'country', 'duration.1', 'genres', 'content_rating',\n",
              "       'plot_keywords', 'director_name', 'actor_1_name', 'actor_2_name',\n",
              "       'actor_3_name', 'cast_total_facebook_likes', 'budget', 'imdb_score',\n",
              "       'gross'],\n",
              "      dtype='object')"
            ]
          },
          "metadata": {
            "tags": []
          },
          "execution_count": 21
        }
      ]
    },
    {
      "cell_type": "code",
      "metadata": {
        "id": "e7WvGyc5TzhH",
        "colab_type": "code",
        "outputId": "769518cb-2ed2-47fd-e1e8-6f8a693567eb",
        "colab": {
          "base_uri": "https://localhost:8080/",
          "height": 340
        }
      },
      "source": [
        "for el in num.index:\n",
        "  print(el)"
      ],
      "execution_count": 0,
      "outputs": [
        {
          "output_type": "stream",
          "text": [
            "movie_title\n",
            "title_year\n",
            "color\n",
            "aspect_ratio\n",
            "duration\n",
            "language\n",
            "country\n",
            "duration.1\n",
            "genres\n",
            "content_rating\n",
            "plot_keywords\n",
            "director_name\n",
            "actor_1_name\n",
            "actor_2_name\n",
            "actor_3_name\n",
            "cast_total_facebook_likes\n",
            "budget\n",
            "imdb_score\n",
            "gross\n"
          ],
          "name": "stdout"
        }
      ]
    },
    {
      "cell_type": "code",
      "metadata": {
        "id": "gUEDliQ8UAMF",
        "colab_type": "code",
        "outputId": "ee78cb09-35e1-4329-e9bc-38b59b687f15",
        "colab": {
          "base_uri": "https://localhost:8080/",
          "height": 153
        }
      },
      "source": [
        "# Estoy guardando las columnas numericas en num_cols\n",
        "\n",
        "num_cols = [c for c in num.index if num[c]]\n",
        "num_cols"
      ],
      "execution_count": 0,
      "outputs": [
        {
          "output_type": "execute_result",
          "data": {
            "text/plain": [
              "['title_year',\n",
              " 'aspect_ratio',\n",
              " 'duration',\n",
              " 'duration.1',\n",
              " 'cast_total_facebook_likes',\n",
              " 'budget',\n",
              " 'imdb_score',\n",
              " 'gross']"
            ]
          },
          "metadata": {
            "tags": []
          },
          "execution_count": 23
        }
      ]
    },
    {
      "cell_type": "code",
      "metadata": {
        "id": "1VG9PZJIUYZh",
        "colab_type": "code",
        "outputId": "68e63f6f-4f41-439a-cf1f-5f08cf7a0553",
        "colab": {
          "base_uri": "https://localhost:8080/",
          "height": 204
        }
      },
      "source": [
        "# Estoy guarando las columnas de texto\n",
        "\n",
        "obj = movies.dtypes == object\n",
        "obj_cols = [c for c in obj.index if obj[c]]\n",
        "obj_cols"
      ],
      "execution_count": 0,
      "outputs": [
        {
          "output_type": "execute_result",
          "data": {
            "text/plain": [
              "['movie_title',\n",
              " 'color',\n",
              " 'language',\n",
              " 'country',\n",
              " 'genres',\n",
              " 'content_rating',\n",
              " 'plot_keywords',\n",
              " 'director_name',\n",
              " 'actor_1_name',\n",
              " 'actor_2_name',\n",
              " 'actor_3_name']"
            ]
          },
          "metadata": {
            "tags": []
          },
          "execution_count": 24
        }
      ]
    },
    {
      "cell_type": "code",
      "metadata": {
        "id": "rzOXUlgVUj19",
        "colab_type": "code",
        "outputId": "d6d1e0cb-6602-4c17-d233-6fb15d333a57",
        "colab": {
          "base_uri": "https://localhost:8080/",
          "height": 419
        }
      },
      "source": [
        "movies_num = movies[num_cols]\n",
        "movies_num"
      ],
      "execution_count": 0,
      "outputs": [
        {
          "output_type": "execute_result",
          "data": {
            "text/html": [
              "<div>\n",
              "<style scoped>\n",
              "    .dataframe tbody tr th:only-of-type {\n",
              "        vertical-align: middle;\n",
              "    }\n",
              "\n",
              "    .dataframe tbody tr th {\n",
              "        vertical-align: top;\n",
              "    }\n",
              "\n",
              "    .dataframe thead th {\n",
              "        text-align: right;\n",
              "    }\n",
              "</style>\n",
              "<table border=\"1\" class=\"dataframe\">\n",
              "  <thead>\n",
              "    <tr style=\"text-align: right;\">\n",
              "      <th></th>\n",
              "      <th>title_year</th>\n",
              "      <th>aspect_ratio</th>\n",
              "      <th>duration</th>\n",
              "      <th>duration.1</th>\n",
              "      <th>cast_total_facebook_likes</th>\n",
              "      <th>budget</th>\n",
              "      <th>imdb_score</th>\n",
              "      <th>gross</th>\n",
              "    </tr>\n",
              "  </thead>\n",
              "  <tbody>\n",
              "    <tr>\n",
              "      <th>0</th>\n",
              "      <td>2009.0</td>\n",
              "      <td>1.78</td>\n",
              "      <td>178.0</td>\n",
              "      <td>178.0</td>\n",
              "      <td>4834</td>\n",
              "      <td>237000000.0</td>\n",
              "      <td>7.9</td>\n",
              "      <td>760505847.0</td>\n",
              "    </tr>\n",
              "    <tr>\n",
              "      <th>1</th>\n",
              "      <td>2007.0</td>\n",
              "      <td>2.35</td>\n",
              "      <td>169.0</td>\n",
              "      <td>169.0</td>\n",
              "      <td>48350</td>\n",
              "      <td>300000000.0</td>\n",
              "      <td>7.1</td>\n",
              "      <td>309404152.0</td>\n",
              "    </tr>\n",
              "    <tr>\n",
              "      <th>2</th>\n",
              "      <td>2015.0</td>\n",
              "      <td>2.35</td>\n",
              "      <td>148.0</td>\n",
              "      <td>148.0</td>\n",
              "      <td>11700</td>\n",
              "      <td>245000000.0</td>\n",
              "      <td>6.8</td>\n",
              "      <td>200074175.0</td>\n",
              "    </tr>\n",
              "    <tr>\n",
              "      <th>3</th>\n",
              "      <td>2012.0</td>\n",
              "      <td>2.35</td>\n",
              "      <td>164.0</td>\n",
              "      <td>164.0</td>\n",
              "      <td>106759</td>\n",
              "      <td>250000000.0</td>\n",
              "      <td>8.5</td>\n",
              "      <td>448130642.0</td>\n",
              "    </tr>\n",
              "    <tr>\n",
              "      <th>4</th>\n",
              "      <td>NaN</td>\n",
              "      <td>NaN</td>\n",
              "      <td>NaN</td>\n",
              "      <td>NaN</td>\n",
              "      <td>143</td>\n",
              "      <td>NaN</td>\n",
              "      <td>7.1</td>\n",
              "      <td>NaN</td>\n",
              "    </tr>\n",
              "    <tr>\n",
              "      <th>...</th>\n",
              "      <td>...</td>\n",
              "      <td>...</td>\n",
              "      <td>...</td>\n",
              "      <td>...</td>\n",
              "      <td>...</td>\n",
              "      <td>...</td>\n",
              "      <td>...</td>\n",
              "      <td>...</td>\n",
              "    </tr>\n",
              "    <tr>\n",
              "      <th>5038</th>\n",
              "      <td>2013.0</td>\n",
              "      <td>NaN</td>\n",
              "      <td>87.0</td>\n",
              "      <td>87.0</td>\n",
              "      <td>2283</td>\n",
              "      <td>NaN</td>\n",
              "      <td>7.7</td>\n",
              "      <td>NaN</td>\n",
              "    </tr>\n",
              "    <tr>\n",
              "      <th>5039</th>\n",
              "      <td>NaN</td>\n",
              "      <td>16.00</td>\n",
              "      <td>43.0</td>\n",
              "      <td>43.0</td>\n",
              "      <td>1753</td>\n",
              "      <td>NaN</td>\n",
              "      <td>7.5</td>\n",
              "      <td>NaN</td>\n",
              "    </tr>\n",
              "    <tr>\n",
              "      <th>5040</th>\n",
              "      <td>2013.0</td>\n",
              "      <td>NaN</td>\n",
              "      <td>76.0</td>\n",
              "      <td>76.0</td>\n",
              "      <td>0</td>\n",
              "      <td>1400.0</td>\n",
              "      <td>6.3</td>\n",
              "      <td>NaN</td>\n",
              "    </tr>\n",
              "    <tr>\n",
              "      <th>5041</th>\n",
              "      <td>2012.0</td>\n",
              "      <td>2.35</td>\n",
              "      <td>100.0</td>\n",
              "      <td>100.0</td>\n",
              "      <td>2386</td>\n",
              "      <td>NaN</td>\n",
              "      <td>6.3</td>\n",
              "      <td>10443.0</td>\n",
              "    </tr>\n",
              "    <tr>\n",
              "      <th>5042</th>\n",
              "      <td>2004.0</td>\n",
              "      <td>1.85</td>\n",
              "      <td>90.0</td>\n",
              "      <td>90.0</td>\n",
              "      <td>163</td>\n",
              "      <td>1100.0</td>\n",
              "      <td>6.6</td>\n",
              "      <td>85222.0</td>\n",
              "    </tr>\n",
              "  </tbody>\n",
              "</table>\n",
              "<p>5043 rows × 8 columns</p>\n",
              "</div>"
            ],
            "text/plain": [
              "      title_year  aspect_ratio  duration  ...       budget  imdb_score        gross\n",
              "0         2009.0          1.78     178.0  ...  237000000.0         7.9  760505847.0\n",
              "1         2007.0          2.35     169.0  ...  300000000.0         7.1  309404152.0\n",
              "2         2015.0          2.35     148.0  ...  245000000.0         6.8  200074175.0\n",
              "3         2012.0          2.35     164.0  ...  250000000.0         8.5  448130642.0\n",
              "4            NaN           NaN       NaN  ...          NaN         7.1          NaN\n",
              "...          ...           ...       ...  ...          ...         ...          ...\n",
              "5038      2013.0           NaN      87.0  ...          NaN         7.7          NaN\n",
              "5039         NaN         16.00      43.0  ...          NaN         7.5          NaN\n",
              "5040      2013.0           NaN      76.0  ...       1400.0         6.3          NaN\n",
              "5041      2012.0          2.35     100.0  ...          NaN         6.3      10443.0\n",
              "5042      2004.0          1.85      90.0  ...       1100.0         6.6      85222.0\n",
              "\n",
              "[5043 rows x 8 columns]"
            ]
          },
          "metadata": {
            "tags": []
          },
          "execution_count": 25
        }
      ]
    },
    {
      "cell_type": "code",
      "metadata": {
        "id": "ZK7IY1rQVhpg",
        "colab_type": "code",
        "outputId": "9ece49f4-3de7-438d-d96b-1cbe223f3894",
        "colab": {
          "base_uri": "https://localhost:8080/",
          "height": 297
        }
      },
      "source": [
        "# Estadisticas de las columnas numericas\n",
        "\n",
        "movies_num.describe()"
      ],
      "execution_count": 0,
      "outputs": [
        {
          "output_type": "execute_result",
          "data": {
            "text/html": [
              "<div>\n",
              "<style scoped>\n",
              "    .dataframe tbody tr th:only-of-type {\n",
              "        vertical-align: middle;\n",
              "    }\n",
              "\n",
              "    .dataframe tbody tr th {\n",
              "        vertical-align: top;\n",
              "    }\n",
              "\n",
              "    .dataframe thead th {\n",
              "        text-align: right;\n",
              "    }\n",
              "</style>\n",
              "<table border=\"1\" class=\"dataframe\">\n",
              "  <thead>\n",
              "    <tr style=\"text-align: right;\">\n",
              "      <th></th>\n",
              "      <th>title_year</th>\n",
              "      <th>aspect_ratio</th>\n",
              "      <th>duration</th>\n",
              "      <th>duration.1</th>\n",
              "      <th>cast_total_facebook_likes</th>\n",
              "      <th>budget</th>\n",
              "      <th>imdb_score</th>\n",
              "      <th>gross</th>\n",
              "    </tr>\n",
              "  </thead>\n",
              "  <tbody>\n",
              "    <tr>\n",
              "      <th>count</th>\n",
              "      <td>4935.000000</td>\n",
              "      <td>4714.000000</td>\n",
              "      <td>5028.000000</td>\n",
              "      <td>5028.000000</td>\n",
              "      <td>5043.000000</td>\n",
              "      <td>4.551000e+03</td>\n",
              "      <td>5043.000000</td>\n",
              "      <td>4.159000e+03</td>\n",
              "    </tr>\n",
              "    <tr>\n",
              "      <th>mean</th>\n",
              "      <td>2002.470517</td>\n",
              "      <td>2.220403</td>\n",
              "      <td>107.201074</td>\n",
              "      <td>107.201074</td>\n",
              "      <td>9699.063851</td>\n",
              "      <td>3.975262e+07</td>\n",
              "      <td>6.442138</td>\n",
              "      <td>4.846841e+07</td>\n",
              "    </tr>\n",
              "    <tr>\n",
              "      <th>std</th>\n",
              "      <td>12.474599</td>\n",
              "      <td>1.385113</td>\n",
              "      <td>25.197441</td>\n",
              "      <td>25.197441</td>\n",
              "      <td>18163.799124</td>\n",
              "      <td>2.061149e+08</td>\n",
              "      <td>1.125116</td>\n",
              "      <td>6.845299e+07</td>\n",
              "    </tr>\n",
              "    <tr>\n",
              "      <th>min</th>\n",
              "      <td>1916.000000</td>\n",
              "      <td>1.180000</td>\n",
              "      <td>7.000000</td>\n",
              "      <td>7.000000</td>\n",
              "      <td>0.000000</td>\n",
              "      <td>2.180000e+02</td>\n",
              "      <td>1.600000</td>\n",
              "      <td>1.620000e+02</td>\n",
              "    </tr>\n",
              "    <tr>\n",
              "      <th>25%</th>\n",
              "      <td>1999.000000</td>\n",
              "      <td>1.850000</td>\n",
              "      <td>93.000000</td>\n",
              "      <td>93.000000</td>\n",
              "      <td>1411.000000</td>\n",
              "      <td>6.000000e+06</td>\n",
              "      <td>5.800000</td>\n",
              "      <td>5.340988e+06</td>\n",
              "    </tr>\n",
              "    <tr>\n",
              "      <th>50%</th>\n",
              "      <td>2005.000000</td>\n",
              "      <td>2.350000</td>\n",
              "      <td>103.000000</td>\n",
              "      <td>103.000000</td>\n",
              "      <td>3090.000000</td>\n",
              "      <td>2.000000e+07</td>\n",
              "      <td>6.600000</td>\n",
              "      <td>2.551750e+07</td>\n",
              "    </tr>\n",
              "    <tr>\n",
              "      <th>75%</th>\n",
              "      <td>2011.000000</td>\n",
              "      <td>2.350000</td>\n",
              "      <td>118.000000</td>\n",
              "      <td>118.000000</td>\n",
              "      <td>13756.500000</td>\n",
              "      <td>4.500000e+07</td>\n",
              "      <td>7.200000</td>\n",
              "      <td>6.230944e+07</td>\n",
              "    </tr>\n",
              "    <tr>\n",
              "      <th>max</th>\n",
              "      <td>2016.000000</td>\n",
              "      <td>16.000000</td>\n",
              "      <td>511.000000</td>\n",
              "      <td>511.000000</td>\n",
              "      <td>656730.000000</td>\n",
              "      <td>1.221550e+10</td>\n",
              "      <td>9.500000</td>\n",
              "      <td>7.605058e+08</td>\n",
              "    </tr>\n",
              "  </tbody>\n",
              "</table>\n",
              "</div>"
            ],
            "text/plain": [
              "        title_year  aspect_ratio  ...   imdb_score         gross\n",
              "count  4935.000000   4714.000000  ...  5043.000000  4.159000e+03\n",
              "mean   2002.470517      2.220403  ...     6.442138  4.846841e+07\n",
              "std      12.474599      1.385113  ...     1.125116  6.845299e+07\n",
              "min    1916.000000      1.180000  ...     1.600000  1.620000e+02\n",
              "25%    1999.000000      1.850000  ...     5.800000  5.340988e+06\n",
              "50%    2005.000000      2.350000  ...     6.600000  2.551750e+07\n",
              "75%    2011.000000      2.350000  ...     7.200000  6.230944e+07\n",
              "max    2016.000000     16.000000  ...     9.500000  7.605058e+08\n",
              "\n",
              "[8 rows x 8 columns]"
            ]
          },
          "metadata": {
            "tags": []
          },
          "execution_count": 26
        }
      ]
    },
    {
      "cell_type": "code",
      "metadata": {
        "id": "a4MHHUG0V6FI",
        "colab_type": "code",
        "colab": {}
      },
      "source": [
        "# Estadisticas de las columnas de texto\n",
        "\n",
        "# Buscar: ¿ Que son las distribuciones Gaussianas ?"
      ],
      "execution_count": 0,
      "outputs": []
    },
    {
      "cell_type": "markdown",
      "metadata": {
        "id": "Vj3KkvIbWGvk",
        "colab_type": "text"
      },
      "source": [
        "Para hacer nuestro primer modelo mas simple para este trabajaremos solo con las columnas numericas."
      ]
    },
    {
      "cell_type": "code",
      "metadata": {
        "id": "s5AR-fnEWBYH",
        "colab_type": "code",
        "outputId": "3436fa5e-6862-421b-df31-d94225b7eb5b",
        "colab": {
          "base_uri": "https://localhost:8080/",
          "height": 285
        }
      },
      "source": [
        "movies_num['duration'].hist()"
      ],
      "execution_count": 0,
      "outputs": [
        {
          "output_type": "execute_result",
          "data": {
            "text/plain": [
              "<matplotlib.axes._subplots.AxesSubplot at 0x7fc6af6b0f98>"
            ]
          },
          "metadata": {
            "tags": []
          },
          "execution_count": 28
        },
        {
          "output_type": "display_data",
          "data": {
            "image/png": "[encoded data removed]",
            "text/plain": [
              "<Figure size 432x288 with 1 Axes>"
            ]
          },
          "metadata": {
            "tags": [],
            "needs_background": "light"
          }
        }
      ]
    },
    {
      "cell_type": "code",
      "metadata": {
        "id": "w2oCq-q3WasS",
        "colab_type": "code",
        "outputId": "90375757-9391-4dca-9085-e413a5faf368",
        "colab": {
          "base_uri": "https://localhost:8080/",
          "height": 282
        }
      },
      "source": [
        "movies_num['imdb_score'].hist()"
      ],
      "execution_count": 0,
      "outputs": [
        {
          "output_type": "execute_result",
          "data": {
            "text/plain": [
              "<matplotlib.axes._subplots.AxesSubplot at 0x7fc6af590048>"
            ]
          },
          "metadata": {
            "tags": []
          },
          "execution_count": 29
        },
        {
          "output_type": "display_data",
          "data": {
            "image/png": "[encoded data removed]",
            "text/plain": [
              "<Figure size 432x288 with 1 Axes>"
            ]
          },
          "metadata": {
            "tags": [],
            "needs_background": "light"
          }
        }
      ]
    },
    {
      "cell_type": "code",
      "metadata": {
        "id": "eBttkQ8yWnfb",
        "colab_type": "code",
        "outputId": "b2287372-7a67-4206-b47c-36845cdc5325",
        "colab": {
          "base_uri": "https://localhost:8080/",
          "height": 295
        }
      },
      "source": [
        "# Aqui hay una anomalia, hay peliculas que se escapan completamente de la distribucion puesto que todas se concentran en una sola escala,\n",
        "# y la grafica esta mostrando que llega hasta 1.2, eso quiere decir que hay otras peliculas que son pocas y casi no se ven en el\n",
        "# histograma\n",
        "\n",
        "movies_num['budget'].hist()"
      ],
      "execution_count": 0,
      "outputs": [
        {
          "output_type": "execute_result",
          "data": {
            "text/plain": [
              "<matplotlib.axes._subplots.AxesSubplot at 0x7fc6af0e3908>"
            ]
          },
          "metadata": {
            "tags": []
          },
          "execution_count": 30
        },
        {
          "output_type": "display_data",
          "data": {
            "image/png": "[encoded data removed]",
            "text/plain": [
              "<Figure size 432x288 with 1 Axes>"
            ]
          },
          "metadata": {
            "tags": [],
            "needs_background": "light"
          }
        }
      ]
    },
    {
      "cell_type": "code",
      "metadata": {
        "id": "jPri72JTXQXv",
        "colab_type": "code",
        "outputId": "aeb6194f-6ff0-48a1-eb8a-e877e7c7ac7a",
        "colab": {
          "base_uri": "https://localhost:8080/",
          "height": 68
        }
      },
      "source": [
        "# Vamos a ver que es el boolean filtering ...\n",
        "# ¿Que peliculas tienen presupuestos mayores a 1 billon?\n",
        "\n",
        "(movies_num['budget']>1e9).value_counts()"
      ],
      "execution_count": 0,
      "outputs": [
        {
          "output_type": "execute_result",
          "data": {
            "text/plain": [
              "False    5037\n",
              "True        6\n",
              "Name: budget, dtype: int64"
            ]
          },
          "metadata": {
            "tags": []
          },
          "execution_count": 31
        }
      ]
    },
    {
      "cell_type": "code",
      "metadata": {
        "id": "E1S2ixEFYePq",
        "colab_type": "code",
        "colab": {}
      },
      "source": [
        "# Vamos a asignar una mascara, que es una serie de booleanos\n",
        "\n",
        "mask = (movies_num['budget']>1e9)"
      ],
      "execution_count": 0,
      "outputs": []
    },
    {
      "cell_type": "code",
      "metadata": {
        "id": "RQMTnaV7YwIL",
        "colab_type": "code",
        "outputId": "da14fd27-1689-4730-9744-53fe79a5ea83",
        "colab": {
          "base_uri": "https://localhost:8080/",
          "height": 374
        }
      },
      "source": [
        "# Me va a dejar las peliculas cuya mascara era valor en true\n",
        "# Sacamos una cantidad de peliculas (en este caso son de origen asiatico), y el valor de estas esta representado en Yenes, por tanto\n",
        "# el valor numerico de 1.000.000 de Yenes no va a ser igual a 1.000.000 de Dolares, esto genera una inconsistencia en los datos del Budget.\n",
        "# Tocaria arreglar los valores a una misma moneda\n",
        "# La persona que hizo el scrapping de esta BD no considero la moneda, por tanto habria que hacer nuevamente el scrapping para arreglar este tema\n",
        "movies[mask]"
      ],
      "execution_count": 0,
      "outputs": [
        {
          "output_type": "execute_result",
          "data": {
            "text/html": [
              "<div>\n",
              "<style scoped>\n",
              "    .dataframe tbody tr th:only-of-type {\n",
              "        vertical-align: middle;\n",
              "    }\n",
              "\n",
              "    .dataframe tbody tr th {\n",
              "        vertical-align: top;\n",
              "    }\n",
              "\n",
              "    .dataframe thead th {\n",
              "        text-align: right;\n",
              "    }\n",
              "</style>\n",
              "<table border=\"1\" class=\"dataframe\">\n",
              "  <thead>\n",
              "    <tr style=\"text-align: right;\">\n",
              "      <th></th>\n",
              "      <th>movie_title</th>\n",
              "      <th>title_year</th>\n",
              "      <th>color</th>\n",
              "      <th>aspect_ratio</th>\n",
              "      <th>duration</th>\n",
              "      <th>language</th>\n",
              "      <th>country</th>\n",
              "      <th>duration.1</th>\n",
              "      <th>genres</th>\n",
              "      <th>content_rating</th>\n",
              "      <th>plot_keywords</th>\n",
              "      <th>director_name</th>\n",
              "      <th>actor_1_name</th>\n",
              "      <th>actor_2_name</th>\n",
              "      <th>actor_3_name</th>\n",
              "      <th>cast_total_facebook_likes</th>\n",
              "      <th>budget</th>\n",
              "      <th>imdb_score</th>\n",
              "      <th>gross</th>\n",
              "    </tr>\n",
              "  </thead>\n",
              "  <tbody>\n",
              "    <tr>\n",
              "      <th>2323</th>\n",
              "      <td>Princess Mononoke</td>\n",
              "      <td>1997.0</td>\n",
              "      <td>Color</td>\n",
              "      <td>1.85</td>\n",
              "      <td>134.0</td>\n",
              "      <td>Japanese</td>\n",
              "      <td>Japan</td>\n",
              "      <td>134.0</td>\n",
              "      <td>Adventure|Animation|Fantasy</td>\n",
              "      <td>PG-13</td>\n",
              "      <td>anime|cult film|forest|princess|studio ghibli</td>\n",
              "      <td>Hayao Miyazaki</td>\n",
              "      <td>Minnie Driver</td>\n",
              "      <td>Jada Pinkett Smith</td>\n",
              "      <td>Billy Crudup</td>\n",
              "      <td>2710</td>\n",
              "      <td>2.400000e+09</td>\n",
              "      <td>8.4</td>\n",
              "      <td>2298191.0</td>\n",
              "    </tr>\n",
              "    <tr>\n",
              "      <th>2334</th>\n",
              "      <td>Steamboy</td>\n",
              "      <td>2004.0</td>\n",
              "      <td>Color</td>\n",
              "      <td>1.85</td>\n",
              "      <td>103.0</td>\n",
              "      <td>Japanese</td>\n",
              "      <td>Japan</td>\n",
              "      <td>103.0</td>\n",
              "      <td>Action|Adventure|Animation|Family|Sci-Fi|Thriller</td>\n",
              "      <td>PG-13</td>\n",
              "      <td>19th century|ball|boy|inventor|steam</td>\n",
              "      <td>Katsuhiro Ôtomo</td>\n",
              "      <td>William Hootkins</td>\n",
              "      <td>Robin Atkin Downes</td>\n",
              "      <td>Rosalind Ayres</td>\n",
              "      <td>991</td>\n",
              "      <td>2.127520e+09</td>\n",
              "      <td>6.9</td>\n",
              "      <td>410388.0</td>\n",
              "    </tr>\n",
              "    <tr>\n",
              "      <th>2988</th>\n",
              "      <td>The Host</td>\n",
              "      <td>2006.0</td>\n",
              "      <td>Color</td>\n",
              "      <td>1.85</td>\n",
              "      <td>110.0</td>\n",
              "      <td>Korean</td>\n",
              "      <td>South Korea</td>\n",
              "      <td>110.0</td>\n",
              "      <td>Comedy|Drama|Horror|Sci-Fi</td>\n",
              "      <td>R</td>\n",
              "      <td>daughter|han river|monster|river|seoul</td>\n",
              "      <td>Joon-ho Bong</td>\n",
              "      <td>Doona Bae</td>\n",
              "      <td>Kang-ho Song</td>\n",
              "      <td>Ah-sung Ko</td>\n",
              "      <td>1173</td>\n",
              "      <td>1.221550e+10</td>\n",
              "      <td>7.0</td>\n",
              "      <td>2201412.0</td>\n",
              "    </tr>\n",
              "    <tr>\n",
              "      <th>3005</th>\n",
              "      <td>Fateless</td>\n",
              "      <td>2005.0</td>\n",
              "      <td>Color</td>\n",
              "      <td>2.35</td>\n",
              "      <td>134.0</td>\n",
              "      <td>Hungarian</td>\n",
              "      <td>Hungary</td>\n",
              "      <td>134.0</td>\n",
              "      <td>Drama|Romance|War</td>\n",
              "      <td>R</td>\n",
              "      <td>bus|death|gay slur|hatred|jewish</td>\n",
              "      <td>Lajos Koltai</td>\n",
              "      <td>Marcell Nagy</td>\n",
              "      <td>Péter Fancsikai</td>\n",
              "      <td>Bálint Péntek</td>\n",
              "      <td>11</td>\n",
              "      <td>2.500000e+09</td>\n",
              "      <td>7.1</td>\n",
              "      <td>195888.0</td>\n",
              "    </tr>\n",
              "    <tr>\n",
              "      <th>3423</th>\n",
              "      <td>Akira</td>\n",
              "      <td>1988.0</td>\n",
              "      <td>Color</td>\n",
              "      <td>1.85</td>\n",
              "      <td>124.0</td>\n",
              "      <td>Japanese</td>\n",
              "      <td>Japan</td>\n",
              "      <td>124.0</td>\n",
              "      <td>Action|Animation|Sci-Fi</td>\n",
              "      <td>R</td>\n",
              "      <td>based on manga|biker gang|gifted child|post th...</td>\n",
              "      <td>Katsuhiro Ôtomo</td>\n",
              "      <td>Mitsuo Iwata</td>\n",
              "      <td>Takeshi Kusao</td>\n",
              "      <td>Tesshô Genda</td>\n",
              "      <td>28</td>\n",
              "      <td>1.100000e+09</td>\n",
              "      <td>8.1</td>\n",
              "      <td>439162.0</td>\n",
              "    </tr>\n",
              "    <tr>\n",
              "      <th>3859</th>\n",
              "      <td>Lady Vengeance</td>\n",
              "      <td>2005.0</td>\n",
              "      <td>Color</td>\n",
              "      <td>2.35</td>\n",
              "      <td>112.0</td>\n",
              "      <td>Korean</td>\n",
              "      <td>South Korea</td>\n",
              "      <td>112.0</td>\n",
              "      <td>Crime|Drama</td>\n",
              "      <td>R</td>\n",
              "      <td>cake|christian|lesbian sex|oral sex|pregnant s...</td>\n",
              "      <td>Chan-wook Park</td>\n",
              "      <td>Min-sik Choi</td>\n",
              "      <td>Yeong-ae Lee</td>\n",
              "      <td>Hye-jeong Kang</td>\n",
              "      <td>907</td>\n",
              "      <td>4.200000e+09</td>\n",
              "      <td>7.7</td>\n",
              "      <td>211667.0</td>\n",
              "    </tr>\n",
              "  </tbody>\n",
              "</table>\n",
              "</div>"
            ],
            "text/plain": [
              "             movie_title  title_year  ... imdb_score      gross\n",
              "2323  Princess Mononoke       1997.0  ...        8.4  2298191.0\n",
              "2334           Steamboy       2004.0  ...        6.9   410388.0\n",
              "2988           The Host       2006.0  ...        7.0  2201412.0\n",
              "3005           Fateless       2005.0  ...        7.1   195888.0\n",
              "3423              Akira       1988.0  ...        8.1   439162.0\n",
              "3859     Lady Vengeance       2005.0  ...        7.7   211667.0\n",
              "\n",
              "[6 rows x 19 columns]"
            ]
          },
          "metadata": {
            "tags": []
          },
          "execution_count": 33
        }
      ]
    },
    {
      "cell_type": "code",
      "metadata": {
        "id": "AvmSYm9uamKJ",
        "colab_type": "code",
        "outputId": "1e6cb0dc-5f13-42a3-c529-38604c981e35",
        "colab": {
          "base_uri": "https://localhost:8080/",
          "height": 674
        }
      },
      "source": [
        "# En este nuevo csv ya se hizo el scrapping del budget y tendra organizado estos valores de dinero a una misma moneda. Vamos a combinarlo\n",
        "# con el dataframe (movies), para tener los datos actualizados con la funcion merge\n",
        "\n",
        "pd.read_csv('https://raw.githubusercontent.com/LAlejandro8/datasets-platzi-course/master/datasets/thenumbers.csv',encoding='utf-8')"
      ],
      "execution_count": 0,
      "outputs": [
        {
          "output_type": "execute_result",
          "data": {
            "text/html": [
              "<div>\n",
              "<style scoped>\n",
              "    .dataframe tbody tr th:only-of-type {\n",
              "        vertical-align: middle;\n",
              "    }\n",
              "\n",
              "    .dataframe tbody tr th {\n",
              "        vertical-align: top;\n",
              "    }\n",
              "\n",
              "    .dataframe thead th {\n",
              "        text-align: right;\n",
              "    }\n",
              "</style>\n",
              "<table border=\"1\" class=\"dataframe\">\n",
              "  <thead>\n",
              "    <tr style=\"text-align: right;\">\n",
              "      <th></th>\n",
              "      <th>Unnamed: 0</th>\n",
              "      <th>movie_name</th>\n",
              "      <th>domestic_gross</th>\n",
              "      <th>movie_link</th>\n",
              "      <th>production_budget</th>\n",
              "      <th>release_date</th>\n",
              "      <th>worldwide_gross</th>\n",
              "      <th>movie_title</th>\n",
              "    </tr>\n",
              "  </thead>\n",
              "  <tbody>\n",
              "    <tr>\n",
              "      <th>0</th>\n",
              "      <td>0</td>\n",
              "      <td>Avatar</td>\n",
              "      <td>760507625</td>\n",
              "      <td>http://www.the-numbers.com/movie/Avatar#tab=su...</td>\n",
              "      <td>425000000</td>\n",
              "      <td>12/18/2009</td>\n",
              "      <td>2783918982</td>\n",
              "      <td>Avatar</td>\n",
              "    </tr>\n",
              "    <tr>\n",
              "      <th>1</th>\n",
              "      <td>1</td>\n",
              "      <td>Star Wars Ep. VII: The Force Awakens</td>\n",
              "      <td>936662225</td>\n",
              "      <td>http://www.the-numbers.com/movie/Star-Wars-Ep-...</td>\n",
              "      <td>306000000</td>\n",
              "      <td>12/18/2015</td>\n",
              "      <td>2058662225</td>\n",
              "      <td>Star Wars: Episode VII - The Force Awakens    ...</td>\n",
              "    </tr>\n",
              "    <tr>\n",
              "      <th>2</th>\n",
              "      <td>2</td>\n",
              "      <td>Pirates of the Caribbean: At World's End</td>\n",
              "      <td>309420425</td>\n",
              "      <td>http://www.the-numbers.com/movie/Pirates-of-th...</td>\n",
              "      <td>300000000</td>\n",
              "      <td>5/24/2007</td>\n",
              "      <td>963420425</td>\n",
              "      <td>Pirates of the Caribbean: At World's End</td>\n",
              "    </tr>\n",
              "    <tr>\n",
              "      <th>3</th>\n",
              "      <td>3</td>\n",
              "      <td>Spectre</td>\n",
              "      <td>200074175</td>\n",
              "      <td>http://www.the-numbers.com/movie/Spectre#tab=s...</td>\n",
              "      <td>300000000</td>\n",
              "      <td>11/6/2015</td>\n",
              "      <td>879620923</td>\n",
              "      <td>Spectre</td>\n",
              "    </tr>\n",
              "    <tr>\n",
              "      <th>4</th>\n",
              "      <td>4</td>\n",
              "      <td>The Dark Knight Rises</td>\n",
              "      <td>448139099</td>\n",
              "      <td>http://www.the-numbers.com/movie/Dark-Knight-R...</td>\n",
              "      <td>275000000</td>\n",
              "      <td>7/20/2012</td>\n",
              "      <td>1084439099</td>\n",
              "      <td>The Dark Knight Rises</td>\n",
              "    </tr>\n",
              "    <tr>\n",
              "      <th>...</th>\n",
              "      <td>...</td>\n",
              "      <td>...</td>\n",
              "      <td>...</td>\n",
              "      <td>...</td>\n",
              "      <td>...</td>\n",
              "      <td>...</td>\n",
              "      <td>...</td>\n",
              "      <td>...</td>\n",
              "    </tr>\n",
              "    <tr>\n",
              "      <th>4336</th>\n",
              "      <td>5157</td>\n",
              "      <td>The Mongol King</td>\n",
              "      <td>900</td>\n",
              "      <td>http://www.the-numbers.com/movie/Mongol-King-T...</td>\n",
              "      <td>7000</td>\n",
              "      <td>1/1/2004</td>\n",
              "      <td>900</td>\n",
              "      <td>The Mongol King</td>\n",
              "    </tr>\n",
              "    <tr>\n",
              "      <th>4337</th>\n",
              "      <td>5160</td>\n",
              "      <td>Signed Sealed Delivered</td>\n",
              "      <td>0</td>\n",
              "      <td>http://www.the-numbers.com/movie/Signed-Sealed...</td>\n",
              "      <td>5000</td>\n",
              "      <td>9/29/2015</td>\n",
              "      <td>0</td>\n",
              "      <td>Signed Sealed Delivered</td>\n",
              "    </tr>\n",
              "    <tr>\n",
              "      <th>4338</th>\n",
              "      <td>5161</td>\n",
              "      <td>Shanghai Calling</td>\n",
              "      <td>10443</td>\n",
              "      <td>http://www.the-numbers.com/movie/Shanghai-Call...</td>\n",
              "      <td>3967</td>\n",
              "      <td>2/15/2013</td>\n",
              "      <td>10443</td>\n",
              "      <td>Shanghai Calling</td>\n",
              "    </tr>\n",
              "    <tr>\n",
              "      <th>4339</th>\n",
              "      <td>5162</td>\n",
              "      <td>A Plague So Pleasant</td>\n",
              "      <td>0</td>\n",
              "      <td>http://www.the-numbers.com/movie/Plague-So-Ple...</td>\n",
              "      <td>1400</td>\n",
              "      <td>9/29/2015</td>\n",
              "      <td>0</td>\n",
              "      <td>A Plague So Pleasant</td>\n",
              "    </tr>\n",
              "    <tr>\n",
              "      <th>4340</th>\n",
              "      <td>5163</td>\n",
              "      <td>My Date With Drew</td>\n",
              "      <td>181041</td>\n",
              "      <td>http://www.the-numbers.com/movie/My-Date-With-...</td>\n",
              "      <td>1100</td>\n",
              "      <td>8/5/2005</td>\n",
              "      <td>181041</td>\n",
              "      <td>My Date with Drew</td>\n",
              "    </tr>\n",
              "  </tbody>\n",
              "</table>\n",
              "<p>4341 rows × 8 columns</p>\n",
              "</div>"
            ],
            "text/plain": [
              "      Unnamed: 0  ...                                        movie_title\n",
              "0              0  ...                                            Avatar \n",
              "1              1  ...  Star Wars: Episode VII - The Force Awakens    ...\n",
              "2              2  ...          Pirates of the Caribbean: At World's End \n",
              "3              3  ...                                           Spectre \n",
              "4              4  ...                             The Dark Knight Rises \n",
              "...          ...  ...                                                ...\n",
              "4336        5157  ...                                   The Mongol King \n",
              "4337        5160  ...                           Signed Sealed Delivered \n",
              "4338        5161  ...                                  Shanghai Calling \n",
              "4339        5162  ...                              A Plague So Pleasant \n",
              "4340        5163  ...                                 My Date with Drew \n",
              "\n",
              "[4341 rows x 8 columns]"
            ]
          },
          "metadata": {
            "tags": []
          },
          "execution_count": 34
        }
      ]
    },
    {
      "cell_type": "code",
      "metadata": {
        "id": "iBGOfUXFcAbS",
        "colab_type": "code",
        "colab": {}
      },
      "source": [
        "financials = pd.read_csv('https://raw.githubusercontent.com/LAlejandro8/datasets-platzi-course/master/datasets/thenumbers.csv',encoding='utf-8')"
      ],
      "execution_count": 0,
      "outputs": []
    },
    {
      "cell_type": "code",
      "metadata": {
        "id": "aRApYXgUcD2-",
        "colab_type": "code",
        "colab": {}
      },
      "source": [
        "# Para usar la funcion merge, vamos a sacar los datos que nos interesan del nuevo cvs, que son los datos de financiacion\n",
        "# vamos a usar \"movie_title\" como id relacional para amarrarlo al dataframe de movies\n",
        "financials = financials[['movie_title', 'production_budget', 'worldwide_gross']]"
      ],
      "execution_count": 0,
      "outputs": []
    },
    {
      "cell_type": "code",
      "metadata": {
        "id": "t1BuJ_wlclPY",
        "colab_type": "code",
        "outputId": "0da210fe-3397-47db-926c-4760f88cf795",
        "colab": {
          "base_uri": "https://localhost:8080/",
          "height": 34
        }
      },
      "source": [
        "financials.shape"
      ],
      "execution_count": 0,
      "outputs": [
        {
          "output_type": "execute_result",
          "data": {
            "text/plain": [
              "(4341, 3)"
            ]
          },
          "metadata": {
            "tags": []
          },
          "execution_count": 37
        }
      ]
    },
    {
      "cell_type": "code",
      "metadata": {
        "id": "etnu5UsHcor-",
        "colab_type": "code",
        "outputId": "c30ae965-fe07-4dc9-a38d-abc17a89af35",
        "colab": {
          "base_uri": "https://localhost:8080/",
          "height": 34
        }
      },
      "source": [
        "movies.shape"
      ],
      "execution_count": 0,
      "outputs": [
        {
          "output_type": "execute_result",
          "data": {
            "text/plain": [
              "(5043, 19)"
            ]
          },
          "metadata": {
            "tags": []
          },
          "execution_count": 38
        }
      ]
    },
    {
      "cell_type": "markdown",
      "metadata": {
        "id": "4dMsp4bmcsmC",
        "colab_type": "text"
      },
      "source": [
        "Aqui notamos que estamos perdiendo alrededor de 700 datos, pero necesitamos datos de calidad, se pierden un poquito pero es mejor. Si perdieramos mas del 50% de datos, no seria algo tan bueno."
      ]
    },
    {
      "cell_type": "code",
      "metadata": {
        "id": "TQQOaAWddA6g",
        "colab_type": "code",
        "colab": {}
      },
      "source": [
        "# Por defecto la concatenacion se hace linea x linea, agregamos axis=1 y de esta forma lo hara columna x columna\n",
        "# y asigno el nuevo dataframe numerico a movies_num\n",
        "\n",
        "movies_num = pd.concat([movies_num, movies['movie_title']], axis=1)"
      ],
      "execution_count": 0,
      "outputs": []
    },
    {
      "cell_type": "code",
      "metadata": {
        "id": "9TUDs4nreCGC",
        "colab_type": "code",
        "colab": {}
      },
      "source": [
        "# Vamos a hacer un left join, con la llave \"movie_title\" y quedaran los 4341 datos de financials\n",
        "\n",
        "movies_v2 = pd.merge(financials, movies_num, on='movie_title', how='left')"
      ],
      "execution_count": 0,
      "outputs": []
    },
    {
      "cell_type": "code",
      "metadata": {
        "id": "lvuQv1IdeoHV",
        "colab_type": "code",
        "outputId": "3ac50971-9128-458b-ec39-8e359588edaa",
        "colab": {
          "base_uri": "https://localhost:8080/",
          "height": 34
        }
      },
      "source": [
        "movies_v2.shape"
      ],
      "execution_count": 0,
      "outputs": [
        {
          "output_type": "execute_result",
          "data": {
            "text/plain": [
              "(4385, 11)"
            ]
          },
          "metadata": {
            "tags": []
          },
          "execution_count": 41
        }
      ]
    },
    {
      "cell_type": "markdown",
      "metadata": {
        "id": "VXX8ekhOe7X9",
        "colab_type": "text"
      },
      "source": [
        " Para eliminar datos duplicados podemos usar: movies_num = movies_num.loc[:,~movies_num.columns.duplicated()] "
      ]
    },
    {
      "cell_type": "code",
      "metadata": {
        "id": "MZzrO8Eje_fc",
        "colab_type": "code",
        "outputId": "c4c48cba-185e-4b26-ef62-e1a474202c66",
        "colab": {
          "base_uri": "https://localhost:8080/",
          "height": 439
        }
      },
      "source": [
        "# Los false son datos faltantes\n",
        "\n",
        "movies_v2.notnull()"
      ],
      "execution_count": 0,
      "outputs": [
        {
          "output_type": "execute_result",
          "data": {
            "text/html": [
              "<div>\n",
              "<style scoped>\n",
              "    .dataframe tbody tr th:only-of-type {\n",
              "        vertical-align: middle;\n",
              "    }\n",
              "\n",
              "    .dataframe tbody tr th {\n",
              "        vertical-align: top;\n",
              "    }\n",
              "\n",
              "    .dataframe thead th {\n",
              "        text-align: right;\n",
              "    }\n",
              "</style>\n",
              "<table border=\"1\" class=\"dataframe\">\n",
              "  <thead>\n",
              "    <tr style=\"text-align: right;\">\n",
              "      <th></th>\n",
              "      <th>movie_title</th>\n",
              "      <th>production_budget</th>\n",
              "      <th>worldwide_gross</th>\n",
              "      <th>title_year</th>\n",
              "      <th>aspect_ratio</th>\n",
              "      <th>duration</th>\n",
              "      <th>duration.1</th>\n",
              "      <th>cast_total_facebook_likes</th>\n",
              "      <th>budget</th>\n",
              "      <th>imdb_score</th>\n",
              "      <th>gross</th>\n",
              "    </tr>\n",
              "  </thead>\n",
              "  <tbody>\n",
              "    <tr>\n",
              "      <th>0</th>\n",
              "      <td>True</td>\n",
              "      <td>True</td>\n",
              "      <td>True</td>\n",
              "      <td>True</td>\n",
              "      <td>True</td>\n",
              "      <td>True</td>\n",
              "      <td>True</td>\n",
              "      <td>True</td>\n",
              "      <td>True</td>\n",
              "      <td>True</td>\n",
              "      <td>True</td>\n",
              "    </tr>\n",
              "    <tr>\n",
              "      <th>1</th>\n",
              "      <td>True</td>\n",
              "      <td>True</td>\n",
              "      <td>True</td>\n",
              "      <td>False</td>\n",
              "      <td>False</td>\n",
              "      <td>False</td>\n",
              "      <td>False</td>\n",
              "      <td>True</td>\n",
              "      <td>False</td>\n",
              "      <td>True</td>\n",
              "      <td>False</td>\n",
              "    </tr>\n",
              "    <tr>\n",
              "      <th>2</th>\n",
              "      <td>True</td>\n",
              "      <td>True</td>\n",
              "      <td>True</td>\n",
              "      <td>True</td>\n",
              "      <td>True</td>\n",
              "      <td>True</td>\n",
              "      <td>True</td>\n",
              "      <td>True</td>\n",
              "      <td>True</td>\n",
              "      <td>True</td>\n",
              "      <td>True</td>\n",
              "    </tr>\n",
              "    <tr>\n",
              "      <th>3</th>\n",
              "      <td>True</td>\n",
              "      <td>True</td>\n",
              "      <td>True</td>\n",
              "      <td>True</td>\n",
              "      <td>True</td>\n",
              "      <td>True</td>\n",
              "      <td>True</td>\n",
              "      <td>True</td>\n",
              "      <td>True</td>\n",
              "      <td>True</td>\n",
              "      <td>True</td>\n",
              "    </tr>\n",
              "    <tr>\n",
              "      <th>4</th>\n",
              "      <td>True</td>\n",
              "      <td>True</td>\n",
              "      <td>True</td>\n",
              "      <td>True</td>\n",
              "      <td>True</td>\n",
              "      <td>True</td>\n",
              "      <td>True</td>\n",
              "      <td>True</td>\n",
              "      <td>True</td>\n",
              "      <td>True</td>\n",
              "      <td>True</td>\n",
              "    </tr>\n",
              "    <tr>\n",
              "      <th>...</th>\n",
              "      <td>...</td>\n",
              "      <td>...</td>\n",
              "      <td>...</td>\n",
              "      <td>...</td>\n",
              "      <td>...</td>\n",
              "      <td>...</td>\n",
              "      <td>...</td>\n",
              "      <td>...</td>\n",
              "      <td>...</td>\n",
              "      <td>...</td>\n",
              "      <td>...</td>\n",
              "    </tr>\n",
              "    <tr>\n",
              "      <th>4380</th>\n",
              "      <td>True</td>\n",
              "      <td>True</td>\n",
              "      <td>True</td>\n",
              "      <td>True</td>\n",
              "      <td>False</td>\n",
              "      <td>True</td>\n",
              "      <td>True</td>\n",
              "      <td>True</td>\n",
              "      <td>True</td>\n",
              "      <td>True</td>\n",
              "      <td>False</td>\n",
              "    </tr>\n",
              "    <tr>\n",
              "      <th>4381</th>\n",
              "      <td>True</td>\n",
              "      <td>True</td>\n",
              "      <td>True</td>\n",
              "      <td>True</td>\n",
              "      <td>False</td>\n",
              "      <td>True</td>\n",
              "      <td>True</td>\n",
              "      <td>True</td>\n",
              "      <td>False</td>\n",
              "      <td>True</td>\n",
              "      <td>False</td>\n",
              "    </tr>\n",
              "    <tr>\n",
              "      <th>4382</th>\n",
              "      <td>True</td>\n",
              "      <td>True</td>\n",
              "      <td>True</td>\n",
              "      <td>True</td>\n",
              "      <td>True</td>\n",
              "      <td>True</td>\n",
              "      <td>True</td>\n",
              "      <td>True</td>\n",
              "      <td>False</td>\n",
              "      <td>True</td>\n",
              "      <td>True</td>\n",
              "    </tr>\n",
              "    <tr>\n",
              "      <th>4383</th>\n",
              "      <td>True</td>\n",
              "      <td>True</td>\n",
              "      <td>True</td>\n",
              "      <td>True</td>\n",
              "      <td>False</td>\n",
              "      <td>True</td>\n",
              "      <td>True</td>\n",
              "      <td>True</td>\n",
              "      <td>True</td>\n",
              "      <td>True</td>\n",
              "      <td>False</td>\n",
              "    </tr>\n",
              "    <tr>\n",
              "      <th>4384</th>\n",
              "      <td>True</td>\n",
              "      <td>True</td>\n",
              "      <td>True</td>\n",
              "      <td>True</td>\n",
              "      <td>True</td>\n",
              "      <td>True</td>\n",
              "      <td>True</td>\n",
              "      <td>True</td>\n",
              "      <td>True</td>\n",
              "      <td>True</td>\n",
              "      <td>True</td>\n",
              "    </tr>\n",
              "  </tbody>\n",
              "</table>\n",
              "<p>4385 rows × 11 columns</p>\n",
              "</div>"
            ],
            "text/plain": [
              "      movie_title  production_budget  ...  imdb_score  gross\n",
              "0            True               True  ...        True   True\n",
              "1            True               True  ...        True  False\n",
              "2            True               True  ...        True   True\n",
              "3            True               True  ...        True   True\n",
              "4            True               True  ...        True   True\n",
              "...           ...                ...  ...         ...    ...\n",
              "4380         True               True  ...        True  False\n",
              "4381         True               True  ...        True  False\n",
              "4382         True               True  ...        True   True\n",
              "4383         True               True  ...        True  False\n",
              "4384         True               True  ...        True   True\n",
              "\n",
              "[4385 rows x 11 columns]"
            ]
          },
          "metadata": {
            "tags": []
          },
          "execution_count": 42
        }
      ]
    },
    {
      "cell_type": "code",
      "metadata": {
        "id": "kZjXGOfAJshZ",
        "colab_type": "code",
        "outputId": "7e76caa6-f455-46ec-c35b-b298f7bea6a4",
        "colab": {
          "base_uri": "https://localhost:8080/",
          "height": 131
        }
      },
      "source": [
        "# El apply va columna x columna haciendo un conteo de los valores faltantes, NaN es que no falta ninguno\n",
        "\n",
        "movies_v2.notnull().apply(pd.Series.value_counts)"
      ],
      "execution_count": 0,
      "outputs": [
        {
          "output_type": "execute_result",
          "data": {
            "text/html": [
              "<div>\n",
              "<style scoped>\n",
              "    .dataframe tbody tr th:only-of-type {\n",
              "        vertical-align: middle;\n",
              "    }\n",
              "\n",
              "    .dataframe tbody tr th {\n",
              "        vertical-align: top;\n",
              "    }\n",
              "\n",
              "    .dataframe thead th {\n",
              "        text-align: right;\n",
              "    }\n",
              "</style>\n",
              "<table border=\"1\" class=\"dataframe\">\n",
              "  <thead>\n",
              "    <tr style=\"text-align: right;\">\n",
              "      <th></th>\n",
              "      <th>movie_title</th>\n",
              "      <th>production_budget</th>\n",
              "      <th>worldwide_gross</th>\n",
              "      <th>title_year</th>\n",
              "      <th>aspect_ratio</th>\n",
              "      <th>duration</th>\n",
              "      <th>duration.1</th>\n",
              "      <th>cast_total_facebook_likes</th>\n",
              "      <th>budget</th>\n",
              "      <th>imdb_score</th>\n",
              "      <th>gross</th>\n",
              "    </tr>\n",
              "  </thead>\n",
              "  <tbody>\n",
              "    <tr>\n",
              "      <th>False</th>\n",
              "      <td>NaN</td>\n",
              "      <td>NaN</td>\n",
              "      <td>NaN</td>\n",
              "      <td>27</td>\n",
              "      <td>274</td>\n",
              "      <td>13</td>\n",
              "      <td>13</td>\n",
              "      <td>NaN</td>\n",
              "      <td>335</td>\n",
              "      <td>NaN</td>\n",
              "      <td>671</td>\n",
              "    </tr>\n",
              "    <tr>\n",
              "      <th>True</th>\n",
              "      <td>4385.0</td>\n",
              "      <td>4385.0</td>\n",
              "      <td>4385.0</td>\n",
              "      <td>4358</td>\n",
              "      <td>4111</td>\n",
              "      <td>4372</td>\n",
              "      <td>4372</td>\n",
              "      <td>4385.0</td>\n",
              "      <td>4050</td>\n",
              "      <td>4385.0</td>\n",
              "      <td>3714</td>\n",
              "    </tr>\n",
              "  </tbody>\n",
              "</table>\n",
              "</div>"
            ],
            "text/plain": [
              "       movie_title  production_budget  ...  imdb_score  gross\n",
              "False          NaN                NaN  ...         NaN    671\n",
              "True        4385.0             4385.0  ...      4385.0   3714\n",
              "\n",
              "[2 rows x 11 columns]"
            ]
          },
          "metadata": {
            "tags": []
          },
          "execution_count": 43
        }
      ]
    },
    {
      "cell_type": "code",
      "metadata": {
        "id": "zOGGgOuXJ1pA",
        "colab_type": "code",
        "colab": {}
      },
      "source": [
        "(movies_v2 != 0).apply(pd.Series.value_counts)"
      ],
      "execution_count": 0,
      "outputs": []
    },
    {
      "cell_type": "code",
      "metadata": {
        "id": "Fe6m8MUHK_wE",
        "colab_type": "code",
        "outputId": "4a2a8916-d107-46c0-926d-05810ead14f9",
        "colab": {
          "base_uri": "https://localhost:8080/",
          "height": 439
        }
      },
      "source": [
        "available = ((movies_v2 != 0) & (movies_v2.notnull()))\n",
        "available"
      ],
      "execution_count": 0,
      "outputs": [
        {
          "output_type": "execute_result",
          "data": {
            "text/html": [
              "<div>\n",
              "<style scoped>\n",
              "    .dataframe tbody tr th:only-of-type {\n",
              "        vertical-align: middle;\n",
              "    }\n",
              "\n",
              "    .dataframe tbody tr th {\n",
              "        vertical-align: top;\n",
              "    }\n",
              "\n",
              "    .dataframe thead th {\n",
              "        text-align: right;\n",
              "    }\n",
              "</style>\n",
              "<table border=\"1\" class=\"dataframe\">\n",
              "  <thead>\n",
              "    <tr style=\"text-align: right;\">\n",
              "      <th></th>\n",
              "      <th>movie_title</th>\n",
              "      <th>production_budget</th>\n",
              "      <th>worldwide_gross</th>\n",
              "      <th>title_year</th>\n",
              "      <th>aspect_ratio</th>\n",
              "      <th>duration</th>\n",
              "      <th>duration.1</th>\n",
              "      <th>cast_total_facebook_likes</th>\n",
              "      <th>budget</th>\n",
              "      <th>imdb_score</th>\n",
              "      <th>gross</th>\n",
              "    </tr>\n",
              "  </thead>\n",
              "  <tbody>\n",
              "    <tr>\n",
              "      <th>0</th>\n",
              "      <td>True</td>\n",
              "      <td>True</td>\n",
              "      <td>True</td>\n",
              "      <td>True</td>\n",
              "      <td>True</td>\n",
              "      <td>True</td>\n",
              "      <td>True</td>\n",
              "      <td>True</td>\n",
              "      <td>True</td>\n",
              "      <td>True</td>\n",
              "      <td>True</td>\n",
              "    </tr>\n",
              "    <tr>\n",
              "      <th>1</th>\n",
              "      <td>True</td>\n",
              "      <td>True</td>\n",
              "      <td>True</td>\n",
              "      <td>False</td>\n",
              "      <td>False</td>\n",
              "      <td>False</td>\n",
              "      <td>False</td>\n",
              "      <td>True</td>\n",
              "      <td>False</td>\n",
              "      <td>True</td>\n",
              "      <td>False</td>\n",
              "    </tr>\n",
              "    <tr>\n",
              "      <th>2</th>\n",
              "      <td>True</td>\n",
              "      <td>True</td>\n",
              "      <td>True</td>\n",
              "      <td>True</td>\n",
              "      <td>True</td>\n",
              "      <td>True</td>\n",
              "      <td>True</td>\n",
              "      <td>True</td>\n",
              "      <td>True</td>\n",
              "      <td>True</td>\n",
              "      <td>True</td>\n",
              "    </tr>\n",
              "    <tr>\n",
              "      <th>3</th>\n",
              "      <td>True</td>\n",
              "      <td>True</td>\n",
              "      <td>True</td>\n",
              "      <td>True</td>\n",
              "      <td>True</td>\n",
              "      <td>True</td>\n",
              "      <td>True</td>\n",
              "      <td>True</td>\n",
              "      <td>True</td>\n",
              "      <td>True</td>\n",
              "      <td>True</td>\n",
              "    </tr>\n",
              "    <tr>\n",
              "      <th>4</th>\n",
              "      <td>True</td>\n",
              "      <td>True</td>\n",
              "      <td>True</td>\n",
              "      <td>True</td>\n",
              "      <td>True</td>\n",
              "      <td>True</td>\n",
              "      <td>True</td>\n",
              "      <td>True</td>\n",
              "      <td>True</td>\n",
              "      <td>True</td>\n",
              "      <td>True</td>\n",
              "    </tr>\n",
              "    <tr>\n",
              "      <th>...</th>\n",
              "      <td>...</td>\n",
              "      <td>...</td>\n",
              "      <td>...</td>\n",
              "      <td>...</td>\n",
              "      <td>...</td>\n",
              "      <td>...</td>\n",
              "      <td>...</td>\n",
              "      <td>...</td>\n",
              "      <td>...</td>\n",
              "      <td>...</td>\n",
              "      <td>...</td>\n",
              "    </tr>\n",
              "    <tr>\n",
              "      <th>4380</th>\n",
              "      <td>True</td>\n",
              "      <td>True</td>\n",
              "      <td>True</td>\n",
              "      <td>True</td>\n",
              "      <td>False</td>\n",
              "      <td>True</td>\n",
              "      <td>True</td>\n",
              "      <td>True</td>\n",
              "      <td>True</td>\n",
              "      <td>True</td>\n",
              "      <td>False</td>\n",
              "    </tr>\n",
              "    <tr>\n",
              "      <th>4381</th>\n",
              "      <td>True</td>\n",
              "      <td>True</td>\n",
              "      <td>False</td>\n",
              "      <td>True</td>\n",
              "      <td>False</td>\n",
              "      <td>True</td>\n",
              "      <td>True</td>\n",
              "      <td>True</td>\n",
              "      <td>False</td>\n",
              "      <td>True</td>\n",
              "      <td>False</td>\n",
              "    </tr>\n",
              "    <tr>\n",
              "      <th>4382</th>\n",
              "      <td>True</td>\n",
              "      <td>True</td>\n",
              "      <td>True</td>\n",
              "      <td>True</td>\n",
              "      <td>True</td>\n",
              "      <td>True</td>\n",
              "      <td>True</td>\n",
              "      <td>True</td>\n",
              "      <td>False</td>\n",
              "      <td>True</td>\n",
              "      <td>True</td>\n",
              "    </tr>\n",
              "    <tr>\n",
              "      <th>4383</th>\n",
              "      <td>True</td>\n",
              "      <td>True</td>\n",
              "      <td>False</td>\n",
              "      <td>True</td>\n",
              "      <td>False</td>\n",
              "      <td>True</td>\n",
              "      <td>True</td>\n",
              "      <td>False</td>\n",
              "      <td>True</td>\n",
              "      <td>True</td>\n",
              "      <td>False</td>\n",
              "    </tr>\n",
              "    <tr>\n",
              "      <th>4384</th>\n",
              "      <td>True</td>\n",
              "      <td>True</td>\n",
              "      <td>True</td>\n",
              "      <td>True</td>\n",
              "      <td>True</td>\n",
              "      <td>True</td>\n",
              "      <td>True</td>\n",
              "      <td>True</td>\n",
              "      <td>True</td>\n",
              "      <td>True</td>\n",
              "      <td>True</td>\n",
              "    </tr>\n",
              "  </tbody>\n",
              "</table>\n",
              "<p>4385 rows × 11 columns</p>\n",
              "</div>"
            ],
            "text/plain": [
              "      movie_title  production_budget  ...  imdb_score  gross\n",
              "0            True               True  ...        True   True\n",
              "1            True               True  ...        True  False\n",
              "2            True               True  ...        True   True\n",
              "3            True               True  ...        True   True\n",
              "4            True               True  ...        True   True\n",
              "...           ...                ...  ...         ...    ...\n",
              "4380         True               True  ...        True  False\n",
              "4381         True               True  ...        True  False\n",
              "4382         True               True  ...        True   True\n",
              "4383         True               True  ...        True  False\n",
              "4384         True               True  ...        True   True\n",
              "\n",
              "[4385 rows x 11 columns]"
            ]
          },
          "metadata": {
            "tags": []
          },
          "execution_count": 46
        }
      ]
    },
    {
      "cell_type": "code",
      "metadata": {
        "id": "84XBEsfgLKBh",
        "colab_type": "code",
        "outputId": "de997716-80d1-46e7-dc2f-0e71a8f1213d",
        "colab": {
          "base_uri": "https://localhost:8080/",
          "height": 68
        }
      },
      "source": [
        "available.all(axis=1).value_counts()"
      ],
      "execution_count": 0,
      "outputs": [
        {
          "output_type": "execute_result",
          "data": {
            "text/plain": [
              "True     3408\n",
              "False     977\n",
              "dtype: int64"
            ]
          },
          "metadata": {
            "tags": []
          },
          "execution_count": 47
        }
      ]
    },
    {
      "cell_type": "code",
      "metadata": {
        "id": "ozs8fF4uLX24",
        "colab_type": "code",
        "outputId": "71dad5ed-7159-47f1-dd49-024aa1b427f4",
        "colab": {
          "base_uri": "https://localhost:8080/",
          "height": 221
        }
      },
      "source": [
        "mask = available['worldwide_gross']\n",
        "mask"
      ],
      "execution_count": 0,
      "outputs": [
        {
          "output_type": "execute_result",
          "data": {
            "text/plain": [
              "0        True\n",
              "1        True\n",
              "2        True\n",
              "3        True\n",
              "4        True\n",
              "        ...  \n",
              "4380     True\n",
              "4381    False\n",
              "4382     True\n",
              "4383    False\n",
              "4384     True\n",
              "Name: worldwide_gross, Length: 4385, dtype: bool"
            ]
          },
          "metadata": {
            "tags": []
          },
          "execution_count": 49
        }
      ]
    },
    {
      "cell_type": "code",
      "metadata": {
        "id": "z7RhAT_zLflX",
        "colab_type": "code",
        "colab": {}
      },
      "source": [
        "# Re setiamos el dataframe y le pasamos la mascara del worldwide_gross cuando si tiene valores o es verdadero\n",
        "movies_v2 = movies_v2[mask]"
      ],
      "execution_count": 0,
      "outputs": []
    },
    {
      "cell_type": "code",
      "metadata": {
        "id": "5VfMgLjULv7X",
        "colab_type": "code",
        "outputId": "0c356826-0b78-46fd-cdea-50f64aaa7057",
        "colab": {
          "base_uri": "https://localhost:8080/",
          "height": 51
        }
      },
      "source": [
        "((movies_v2 != 0) & (movies_v2.notnull())).worldwide_gross.value_counts()"
      ],
      "execution_count": 0,
      "outputs": [
        {
          "output_type": "execute_result",
          "data": {
            "text/plain": [
              "True    4104\n",
              "Name: worldwide_gross, dtype: int64"
            ]
          },
          "metadata": {
            "tags": []
          },
          "execution_count": 51
        }
      ]
    },
    {
      "cell_type": "code",
      "metadata": {
        "id": "D9tSq8wiMF1G",
        "colab_type": "code",
        "colab": {}
      },
      "source": [
        "# Vamos a remplazar los valores NaN de mi dataframe con valores de la media(mean) de cada columna(axis=1)\n",
        "# La importacion del Imputer comentada esta obsoleta\n",
        "# from sklearn.preprocessing  import Imputer\n",
        "from sklearn.impute  import SimpleImputer\n",
        "# imputer = Imputer(missing_values=np.nan, strategy='mean', axis=1)\n",
        "imputer = SimpleImputer(missing_values=np.nan, strategy='mean')"
      ],
      "execution_count": 0,
      "outputs": []
    },
    {
      "cell_type": "code",
      "metadata": {
        "id": "hCbSlwtndmOP",
        "colab_type": "code",
        "outputId": "71a968e0-ba90-4321-c587-4ebcc82e7022",
        "colab": {
          "base_uri": "https://localhost:8080/",
          "height": 592
        }
      },
      "source": [
        "# Tenemos que remover todas las columnas object y duration.1 puesto que esta duplicada\n",
        "\n",
        "movies_v2"
      ],
      "execution_count": 0,
      "outputs": [
        {
          "output_type": "execute_result",
          "data": {
            "text/html": [
              "<div>\n",
              "<style scoped>\n",
              "    .dataframe tbody tr th:only-of-type {\n",
              "        vertical-align: middle;\n",
              "    }\n",
              "\n",
              "    .dataframe tbody tr th {\n",
              "        vertical-align: top;\n",
              "    }\n",
              "\n",
              "    .dataframe thead th {\n",
              "        text-align: right;\n",
              "    }\n",
              "</style>\n",
              "<table border=\"1\" class=\"dataframe\">\n",
              "  <thead>\n",
              "    <tr style=\"text-align: right;\">\n",
              "      <th></th>\n",
              "      <th>movie_title</th>\n",
              "      <th>production_budget</th>\n",
              "      <th>worldwide_gross</th>\n",
              "      <th>title_year</th>\n",
              "      <th>aspect_ratio</th>\n",
              "      <th>duration</th>\n",
              "      <th>duration.1</th>\n",
              "      <th>cast_total_facebook_likes</th>\n",
              "      <th>budget</th>\n",
              "      <th>imdb_score</th>\n",
              "      <th>gross</th>\n",
              "    </tr>\n",
              "  </thead>\n",
              "  <tbody>\n",
              "    <tr>\n",
              "      <th>0</th>\n",
              "      <td>Avatar</td>\n",
              "      <td>425000000</td>\n",
              "      <td>2783918982</td>\n",
              "      <td>2009.0</td>\n",
              "      <td>1.78</td>\n",
              "      <td>178.0</td>\n",
              "      <td>178.0</td>\n",
              "      <td>4834</td>\n",
              "      <td>237000000.0</td>\n",
              "      <td>7.9</td>\n",
              "      <td>760505847.0</td>\n",
              "    </tr>\n",
              "    <tr>\n",
              "      <th>1</th>\n",
              "      <td>Star Wars: Episode VII - The Force Awakens    ...</td>\n",
              "      <td>306000000</td>\n",
              "      <td>2058662225</td>\n",
              "      <td>NaN</td>\n",
              "      <td>NaN</td>\n",
              "      <td>NaN</td>\n",
              "      <td>NaN</td>\n",
              "      <td>143</td>\n",
              "      <td>NaN</td>\n",
              "      <td>7.1</td>\n",
              "      <td>NaN</td>\n",
              "    </tr>\n",
              "    <tr>\n",
              "      <th>2</th>\n",
              "      <td>Pirates of the Caribbean: At World's End</td>\n",
              "      <td>300000000</td>\n",
              "      <td>963420425</td>\n",
              "      <td>2007.0</td>\n",
              "      <td>2.35</td>\n",
              "      <td>169.0</td>\n",
              "      <td>169.0</td>\n",
              "      <td>48350</td>\n",
              "      <td>300000000.0</td>\n",
              "      <td>7.1</td>\n",
              "      <td>309404152.0</td>\n",
              "    </tr>\n",
              "    <tr>\n",
              "      <th>3</th>\n",
              "      <td>Spectre</td>\n",
              "      <td>300000000</td>\n",
              "      <td>879620923</td>\n",
              "      <td>2015.0</td>\n",
              "      <td>2.35</td>\n",
              "      <td>148.0</td>\n",
              "      <td>148.0</td>\n",
              "      <td>11700</td>\n",
              "      <td>245000000.0</td>\n",
              "      <td>6.8</td>\n",
              "      <td>200074175.0</td>\n",
              "    </tr>\n",
              "    <tr>\n",
              "      <th>4</th>\n",
              "      <td>The Dark Knight Rises</td>\n",
              "      <td>275000000</td>\n",
              "      <td>1084439099</td>\n",
              "      <td>2012.0</td>\n",
              "      <td>2.35</td>\n",
              "      <td>164.0</td>\n",
              "      <td>164.0</td>\n",
              "      <td>106759</td>\n",
              "      <td>250000000.0</td>\n",
              "      <td>8.5</td>\n",
              "      <td>448130642.0</td>\n",
              "    </tr>\n",
              "    <tr>\n",
              "      <th>...</th>\n",
              "      <td>...</td>\n",
              "      <td>...</td>\n",
              "      <td>...</td>\n",
              "      <td>...</td>\n",
              "      <td>...</td>\n",
              "      <td>...</td>\n",
              "      <td>...</td>\n",
              "      <td>...</td>\n",
              "      <td>...</td>\n",
              "      <td>...</td>\n",
              "      <td>...</td>\n",
              "    </tr>\n",
              "    <tr>\n",
              "      <th>4378</th>\n",
              "      <td>Primer</td>\n",
              "      <td>7000</td>\n",
              "      <td>841926</td>\n",
              "      <td>2004.0</td>\n",
              "      <td>1.85</td>\n",
              "      <td>77.0</td>\n",
              "      <td>77.0</td>\n",
              "      <td>368</td>\n",
              "      <td>7000.0</td>\n",
              "      <td>7.0</td>\n",
              "      <td>424760.0</td>\n",
              "    </tr>\n",
              "    <tr>\n",
              "      <th>4379</th>\n",
              "      <td>Cavite</td>\n",
              "      <td>7000</td>\n",
              "      <td>71644</td>\n",
              "      <td>2005.0</td>\n",
              "      <td>NaN</td>\n",
              "      <td>80.0</td>\n",
              "      <td>80.0</td>\n",
              "      <td>0</td>\n",
              "      <td>7000.0</td>\n",
              "      <td>6.3</td>\n",
              "      <td>70071.0</td>\n",
              "    </tr>\n",
              "    <tr>\n",
              "      <th>4380</th>\n",
              "      <td>The Mongol King</td>\n",
              "      <td>7000</td>\n",
              "      <td>900</td>\n",
              "      <td>2005.0</td>\n",
              "      <td>NaN</td>\n",
              "      <td>84.0</td>\n",
              "      <td>84.0</td>\n",
              "      <td>93</td>\n",
              "      <td>3250.0</td>\n",
              "      <td>7.8</td>\n",
              "      <td>NaN</td>\n",
              "    </tr>\n",
              "    <tr>\n",
              "      <th>4382</th>\n",
              "      <td>Shanghai Calling</td>\n",
              "      <td>3967</td>\n",
              "      <td>10443</td>\n",
              "      <td>2012.0</td>\n",
              "      <td>2.35</td>\n",
              "      <td>100.0</td>\n",
              "      <td>100.0</td>\n",
              "      <td>2386</td>\n",
              "      <td>NaN</td>\n",
              "      <td>6.3</td>\n",
              "      <td>10443.0</td>\n",
              "    </tr>\n",
              "    <tr>\n",
              "      <th>4384</th>\n",
              "      <td>My Date with Drew</td>\n",
              "      <td>1100</td>\n",
              "      <td>181041</td>\n",
              "      <td>2004.0</td>\n",
              "      <td>1.85</td>\n",
              "      <td>90.0</td>\n",
              "      <td>90.0</td>\n",
              "      <td>163</td>\n",
              "      <td>1100.0</td>\n",
              "      <td>6.6</td>\n",
              "      <td>85222.0</td>\n",
              "    </tr>\n",
              "  </tbody>\n",
              "</table>\n",
              "<p>4104 rows × 11 columns</p>\n",
              "</div>"
            ],
            "text/plain": [
              "                                            movie_title  ...        gross\n",
              "0                                               Avatar   ...  760505847.0\n",
              "1     Star Wars: Episode VII - The Force Awakens    ...  ...          NaN\n",
              "2             Pirates of the Caribbean: At World's End   ...  309404152.0\n",
              "3                                              Spectre   ...  200074175.0\n",
              "4                                The Dark Knight Rises   ...  448130642.0\n",
              "...                                                 ...  ...          ...\n",
              "4378                                            Primer   ...     424760.0\n",
              "4379                                            Cavite   ...      70071.0\n",
              "4380                                   The Mongol King   ...          NaN\n",
              "4382                                  Shanghai Calling   ...      10443.0\n",
              "4384                                 My Date with Drew   ...      85222.0\n",
              "\n",
              "[4104 rows x 11 columns]"
            ]
          },
          "metadata": {
            "tags": []
          },
          "execution_count": 57
        }
      ]
    },
    {
      "cell_type": "code",
      "metadata": {
        "id": "Zx8qwQ8Fdvpl",
        "colab_type": "code",
        "colab": {}
      },
      "source": [
        "movies_v2 = movies_v2.drop('movie_title', axis=1)"
      ],
      "execution_count": 0,
      "outputs": []
    },
    {
      "cell_type": "code",
      "metadata": {
        "id": "AqP90Dj8d71w",
        "colab_type": "code",
        "colab": {}
      },
      "source": [
        "movies_v2 = movies_v2.drop('duration.1', axis=1)"
      ],
      "execution_count": 0,
      "outputs": []
    },
    {
      "cell_type": "code",
      "metadata": {
        "id": "tGd5LWLyfFel",
        "colab_type": "code",
        "outputId": "03431ca5-b5e9-4113-e327-9c00b5506453",
        "colab": {
          "base_uri": "https://localhost:8080/",
          "height": 204
        }
      },
      "source": [
        "movies_v2.head()"
      ],
      "execution_count": 0,
      "outputs": [
        {
          "output_type": "execute_result",
          "data": {
            "text/html": [
              "<div>\n",
              "<style scoped>\n",
              "    .dataframe tbody tr th:only-of-type {\n",
              "        vertical-align: middle;\n",
              "    }\n",
              "\n",
              "    .dataframe tbody tr th {\n",
              "        vertical-align: top;\n",
              "    }\n",
              "\n",
              "    .dataframe thead th {\n",
              "        text-align: right;\n",
              "    }\n",
              "</style>\n",
              "<table border=\"1\" class=\"dataframe\">\n",
              "  <thead>\n",
              "    <tr style=\"text-align: right;\">\n",
              "      <th></th>\n",
              "      <th>production_budget</th>\n",
              "      <th>worldwide_gross</th>\n",
              "      <th>title_year</th>\n",
              "      <th>aspect_ratio</th>\n",
              "      <th>duration</th>\n",
              "      <th>cast_total_facebook_likes</th>\n",
              "      <th>budget</th>\n",
              "      <th>imdb_score</th>\n",
              "      <th>gross</th>\n",
              "    </tr>\n",
              "  </thead>\n",
              "  <tbody>\n",
              "    <tr>\n",
              "      <th>0</th>\n",
              "      <td>425000000</td>\n",
              "      <td>2783918982</td>\n",
              "      <td>2009.0</td>\n",
              "      <td>1.78</td>\n",
              "      <td>178.0</td>\n",
              "      <td>4834</td>\n",
              "      <td>237000000.0</td>\n",
              "      <td>7.9</td>\n",
              "      <td>760505847.0</td>\n",
              "    </tr>\n",
              "    <tr>\n",
              "      <th>1</th>\n",
              "      <td>306000000</td>\n",
              "      <td>2058662225</td>\n",
              "      <td>NaN</td>\n",
              "      <td>NaN</td>\n",
              "      <td>NaN</td>\n",
              "      <td>143</td>\n",
              "      <td>NaN</td>\n",
              "      <td>7.1</td>\n",
              "      <td>NaN</td>\n",
              "    </tr>\n",
              "    <tr>\n",
              "      <th>2</th>\n",
              "      <td>300000000</td>\n",
              "      <td>963420425</td>\n",
              "      <td>2007.0</td>\n",
              "      <td>2.35</td>\n",
              "      <td>169.0</td>\n",
              "      <td>48350</td>\n",
              "      <td>300000000.0</td>\n",
              "      <td>7.1</td>\n",
              "      <td>309404152.0</td>\n",
              "    </tr>\n",
              "    <tr>\n",
              "      <th>3</th>\n",
              "      <td>300000000</td>\n",
              "      <td>879620923</td>\n",
              "      <td>2015.0</td>\n",
              "      <td>2.35</td>\n",
              "      <td>148.0</td>\n",
              "      <td>11700</td>\n",
              "      <td>245000000.0</td>\n",
              "      <td>6.8</td>\n",
              "      <td>200074175.0</td>\n",
              "    </tr>\n",
              "    <tr>\n",
              "      <th>4</th>\n",
              "      <td>275000000</td>\n",
              "      <td>1084439099</td>\n",
              "      <td>2012.0</td>\n",
              "      <td>2.35</td>\n",
              "      <td>164.0</td>\n",
              "      <td>106759</td>\n",
              "      <td>250000000.0</td>\n",
              "      <td>8.5</td>\n",
              "      <td>448130642.0</td>\n",
              "    </tr>\n",
              "  </tbody>\n",
              "</table>\n",
              "</div>"
            ],
            "text/plain": [
              "   production_budget  worldwide_gross  ...  imdb_score        gross\n",
              "0          425000000       2783918982  ...         7.9  760505847.0\n",
              "1          306000000       2058662225  ...         7.1          NaN\n",
              "2          300000000        963420425  ...         7.1  309404152.0\n",
              "3          300000000        879620923  ...         6.8  200074175.0\n",
              "4          275000000       1084439099  ...         8.5  448130642.0\n",
              "\n",
              "[5 rows x 9 columns]"
            ]
          },
          "metadata": {
            "tags": []
          },
          "execution_count": 63
        }
      ]
    },
    {
      "cell_type": "code",
      "metadata": {
        "id": "FlGCXQz3flpq",
        "colab_type": "code",
        "outputId": "dc3b94aa-cf62-4a4d-d58b-181dc1a135ed",
        "colab": {
          "base_uri": "https://localhost:8080/",
          "height": 238
        }
      },
      "source": [
        "# Comparando movies_v2 con values que es el siguiente comando nos damos cuenta que con imputer rellenamos esos valores nan\n",
        "movies_v2.values"
      ],
      "execution_count": 0,
      "outputs": [
        {
          "output_type": "execute_result",
          "data": {
            "text/plain": [
              "array([[4.25000000e+08, 2.78391898e+09, 2.00900000e+03, ...,\n",
              "        2.37000000e+08, 7.90000000e+00, 7.60505847e+08],\n",
              "       [3.06000000e+08, 2.05866222e+09,            nan, ...,\n",
              "                   nan, 7.10000000e+00,            nan],\n",
              "       [3.00000000e+08, 9.63420425e+08, 2.00700000e+03, ...,\n",
              "        3.00000000e+08, 7.10000000e+00, 3.09404152e+08],\n",
              "       ...,\n",
              "       [7.00000000e+03, 9.00000000e+02, 2.00500000e+03, ...,\n",
              "        3.25000000e+03, 7.80000000e+00,            nan],\n",
              "       [3.96700000e+03, 1.04430000e+04, 2.01200000e+03, ...,\n",
              "                   nan, 6.30000000e+00, 1.04430000e+04],\n",
              "       [1.10000000e+03, 1.81041000e+05, 2.00400000e+03, ...,\n",
              "        1.10000000e+03, 6.60000000e+00, 8.52220000e+04]])"
            ]
          },
          "metadata": {
            "tags": []
          },
          "execution_count": 65
        }
      ]
    },
    {
      "cell_type": "code",
      "metadata": {
        "id": "XTP_p9qOMreA",
        "colab_type": "code",
        "outputId": "60803f54-dace-48ef-851d-276e40b24f7c",
        "colab": {
          "base_uri": "https://localhost:8080/",
          "height": 238
        }
      },
      "source": [
        "values = imputer.fit_transform(movies_v2)\n",
        "values"
      ],
      "execution_count": 0,
      "outputs": [
        {
          "output_type": "execute_result",
          "data": {
            "text/plain": [
              "array([[4.25000000e+08, 2.78391898e+09, 2.00900000e+03, ...,\n",
              "        2.37000000e+08, 7.90000000e+00, 7.60505847e+08],\n",
              "       [3.06000000e+08, 2.05866222e+09, 2.00213073e+03, ...,\n",
              "        4.04553863e+07, 7.10000000e+00, 4.83193329e+07],\n",
              "       [3.00000000e+08, 9.63420425e+08, 2.00700000e+03, ...,\n",
              "        3.00000000e+08, 7.10000000e+00, 3.09404152e+08],\n",
              "       ...,\n",
              "       [7.00000000e+03, 9.00000000e+02, 2.00500000e+03, ...,\n",
              "        3.25000000e+03, 7.80000000e+00, 4.83193329e+07],\n",
              "       [3.96700000e+03, 1.04430000e+04, 2.01200000e+03, ...,\n",
              "        4.04553863e+07, 6.30000000e+00, 1.04430000e+04],\n",
              "       [1.10000000e+03, 1.81041000e+05, 2.00400000e+03, ...,\n",
              "        1.10000000e+03, 6.60000000e+00, 8.52220000e+04]])"
            ]
          },
          "metadata": {
            "tags": []
          },
          "execution_count": 64
        }
      ]
    },
    {
      "cell_type": "code",
      "metadata": {
        "id": "xirZNlC3feVR",
        "colab_type": "code",
        "colab": {}
      },
      "source": [
        "X = pd.DataFrame(values)"
      ],
      "execution_count": 0,
      "outputs": []
    },
    {
      "cell_type": "code",
      "metadata": {
        "id": "Yrx6K3gNf3U1",
        "colab_type": "code",
        "colab": {}
      },
      "source": [
        "X.columns = movies_v2.columns"
      ],
      "execution_count": 0,
      "outputs": []
    },
    {
      "cell_type": "code",
      "metadata": {
        "id": "RPQ9xaClgObi",
        "colab_type": "code",
        "colab": {}
      },
      "source": [
        "X.index = movies_v2.index"
      ],
      "execution_count": 0,
      "outputs": []
    },
    {
      "cell_type": "code",
      "metadata": {
        "id": "68e1l1PqgfrX",
        "colab_type": "code",
        "outputId": "c7a79004-e070-4eaf-e28f-610d6ec456aa",
        "colab": {
          "base_uri": "https://localhost:8080/",
          "height": 204
        }
      },
      "source": [
        "X.head()"
      ],
      "execution_count": 0,
      "outputs": [
        {
          "output_type": "execute_result",
          "data": {
            "text/html": [
              "<div>\n",
              "<style scoped>\n",
              "    .dataframe tbody tr th:only-of-type {\n",
              "        vertical-align: middle;\n",
              "    }\n",
              "\n",
              "    .dataframe tbody tr th {\n",
              "        vertical-align: top;\n",
              "    }\n",
              "\n",
              "    .dataframe thead th {\n",
              "        text-align: right;\n",
              "    }\n",
              "</style>\n",
              "<table border=\"1\" class=\"dataframe\">\n",
              "  <thead>\n",
              "    <tr style=\"text-align: right;\">\n",
              "      <th></th>\n",
              "      <th>production_budget</th>\n",
              "      <th>worldwide_gross</th>\n",
              "      <th>title_year</th>\n",
              "      <th>aspect_ratio</th>\n",
              "      <th>duration</th>\n",
              "      <th>cast_total_facebook_likes</th>\n",
              "      <th>budget</th>\n",
              "      <th>imdb_score</th>\n",
              "      <th>gross</th>\n",
              "    </tr>\n",
              "  </thead>\n",
              "  <tbody>\n",
              "    <tr>\n",
              "      <th>0</th>\n",
              "      <td>425000000.0</td>\n",
              "      <td>2.783919e+09</td>\n",
              "      <td>2009.000000</td>\n",
              "      <td>1.780000</td>\n",
              "      <td>178.000000</td>\n",
              "      <td>4834.0</td>\n",
              "      <td>2.370000e+08</td>\n",
              "      <td>7.9</td>\n",
              "      <td>7.605058e+08</td>\n",
              "    </tr>\n",
              "    <tr>\n",
              "      <th>1</th>\n",
              "      <td>306000000.0</td>\n",
              "      <td>2.058662e+09</td>\n",
              "      <td>2002.130733</td>\n",
              "      <td>2.126976</td>\n",
              "      <td>108.577186</td>\n",
              "      <td>143.0</td>\n",
              "      <td>4.045539e+07</td>\n",
              "      <td>7.1</td>\n",
              "      <td>4.831933e+07</td>\n",
              "    </tr>\n",
              "    <tr>\n",
              "      <th>2</th>\n",
              "      <td>300000000.0</td>\n",
              "      <td>9.634204e+08</td>\n",
              "      <td>2007.000000</td>\n",
              "      <td>2.350000</td>\n",
              "      <td>169.000000</td>\n",
              "      <td>48350.0</td>\n",
              "      <td>3.000000e+08</td>\n",
              "      <td>7.1</td>\n",
              "      <td>3.094042e+08</td>\n",
              "    </tr>\n",
              "    <tr>\n",
              "      <th>3</th>\n",
              "      <td>300000000.0</td>\n",
              "      <td>8.796209e+08</td>\n",
              "      <td>2015.000000</td>\n",
              "      <td>2.350000</td>\n",
              "      <td>148.000000</td>\n",
              "      <td>11700.0</td>\n",
              "      <td>2.450000e+08</td>\n",
              "      <td>6.8</td>\n",
              "      <td>2.000742e+08</td>\n",
              "    </tr>\n",
              "    <tr>\n",
              "      <th>4</th>\n",
              "      <td>275000000.0</td>\n",
              "      <td>1.084439e+09</td>\n",
              "      <td>2012.000000</td>\n",
              "      <td>2.350000</td>\n",
              "      <td>164.000000</td>\n",
              "      <td>106759.0</td>\n",
              "      <td>2.500000e+08</td>\n",
              "      <td>8.5</td>\n",
              "      <td>4.481306e+08</td>\n",
              "    </tr>\n",
              "  </tbody>\n",
              "</table>\n",
              "</div>"
            ],
            "text/plain": [
              "   production_budget  worldwide_gross  ...  imdb_score         gross\n",
              "0        425000000.0     2.783919e+09  ...         7.9  7.605058e+08\n",
              "1        306000000.0     2.058662e+09  ...         7.1  4.831933e+07\n",
              "2        300000000.0     9.634204e+08  ...         7.1  3.094042e+08\n",
              "3        300000000.0     8.796209e+08  ...         6.8  2.000742e+08\n",
              "4        275000000.0     1.084439e+09  ...         8.5  4.481306e+08\n",
              "\n",
              "[5 rows x 9 columns]"
            ]
          },
          "metadata": {
            "tags": []
          },
          "execution_count": 77
        }
      ]
    },
    {
      "cell_type": "code",
      "metadata": {
        "id": "QDVFeY4igpHn",
        "colab_type": "code",
        "colab": {}
      },
      "source": [
        "from google.colab import files \n",
        "X.to_csv('x.csv',index=False) \n",
        "files.download('x.csv')"
      ],
      "execution_count": 0,
      "outputs": []
    },
    {
      "cell_type": "code",
      "metadata": {
        "id": "PMvZvuRzhBHE",
        "colab_type": "code",
        "outputId": "a790c3a9-8bad-461c-82de-e0d8d93910f4",
        "colab": {
          "base_uri": "https://localhost:8080/",
          "height": 221
        }
      },
      "source": [
        "y = X['worldwide_gross']\n",
        "y"
      ],
      "execution_count": 0,
      "outputs": [
        {
          "output_type": "execute_result",
          "data": {
            "text/plain": [
              "0       2.783919e+09\n",
              "1       2.058662e+09\n",
              "2       9.634204e+08\n",
              "3       8.796209e+08\n",
              "4       1.084439e+09\n",
              "            ...     \n",
              "4378    8.419260e+05\n",
              "4379    7.164400e+04\n",
              "4380    9.000000e+02\n",
              "4382    1.044300e+04\n",
              "4384    1.810410e+05\n",
              "Name: worldwide_gross, Length: 4104, dtype: float64"
            ]
          },
          "metadata": {
            "tags": []
          },
          "execution_count": 80
        }
      ]
    },
    {
      "cell_type": "code",
      "metadata": {
        "id": "XPmxPFRSjPtT",
        "colab_type": "code",
        "colab": {}
      },
      "source": [
        "X = X.drop('worldwide_gross', axis=1)"
      ],
      "execution_count": 0,
      "outputs": []
    },
    {
      "cell_type": "code",
      "metadata": {
        "id": "Q8v88nnbjczm",
        "colab_type": "code",
        "colab": {}
      },
      "source": [
        "from sklearn.model_selection import train_test_split\n",
        "\n",
        "X_train, X_test, y_train, y_test = train_test_split(X,y,test_size=0.4)"
      ],
      "execution_count": 0,
      "outputs": []
    },
    {
      "cell_type": "code",
      "metadata": {
        "id": "-wNZj-q0j44o",
        "colab_type": "code",
        "outputId": "a14e006a-ba61-4295-a959-79d24e170d26",
        "colab": {
          "base_uri": "https://localhost:8080/",
          "height": 68
        }
      },
      "source": [
        "print(len(X))\n",
        "print(len(X_train))\n",
        "print(len(X_test))"
      ],
      "execution_count": 0,
      "outputs": [
        {
          "output_type": "stream",
          "text": [
            "4104\n",
            "2462\n",
            "1642\n"
          ],
          "name": "stdout"
        }
      ]
    },
    {
      "cell_type": "code",
      "metadata": {
        "id": "fGkv5_4UkCOX",
        "colab_type": "code",
        "outputId": "977b3279-5de0-4c67-f454-8f309f3ce99a",
        "colab": {
          "base_uri": "https://localhost:8080/",
          "height": 80
        }
      },
      "source": [
        "X.head(1)"
      ],
      "execution_count": 0,
      "outputs": [
        {
          "output_type": "execute_result",
          "data": {
            "text/html": [
              "<div>\n",
              "<style scoped>\n",
              "    .dataframe tbody tr th:only-of-type {\n",
              "        vertical-align: middle;\n",
              "    }\n",
              "\n",
              "    .dataframe tbody tr th {\n",
              "        vertical-align: top;\n",
              "    }\n",
              "\n",
              "    .dataframe thead th {\n",
              "        text-align: right;\n",
              "    }\n",
              "</style>\n",
              "<table border=\"1\" class=\"dataframe\">\n",
              "  <thead>\n",
              "    <tr style=\"text-align: right;\">\n",
              "      <th></th>\n",
              "      <th>production_budget</th>\n",
              "      <th>title_year</th>\n",
              "      <th>aspect_ratio</th>\n",
              "      <th>duration</th>\n",
              "      <th>cast_total_facebook_likes</th>\n",
              "      <th>budget</th>\n",
              "      <th>imdb_score</th>\n",
              "      <th>gross</th>\n",
              "    </tr>\n",
              "  </thead>\n",
              "  <tbody>\n",
              "    <tr>\n",
              "      <th>0</th>\n",
              "      <td>425000000.0</td>\n",
              "      <td>2009.0</td>\n",
              "      <td>1.78</td>\n",
              "      <td>178.0</td>\n",
              "      <td>4834.0</td>\n",
              "      <td>237000000.0</td>\n",
              "      <td>7.9</td>\n",
              "      <td>760505847.0</td>\n",
              "    </tr>\n",
              "  </tbody>\n",
              "</table>\n",
              "</div>"
            ],
            "text/plain": [
              "   production_budget  title_year  ...  imdb_score        gross\n",
              "0        425000000.0      2009.0  ...         7.9  760505847.0\n",
              "\n",
              "[1 rows x 8 columns]"
            ]
          },
          "metadata": {
            "tags": []
          },
          "execution_count": 84
        }
      ]
    },
    {
      "cell_type": "code",
      "metadata": {
        "id": "j0ISf78dkIgL",
        "colab_type": "code",
        "colab": {}
      },
      "source": [
        "from sklearn.linear_model import Lasso\n",
        "\n",
        "model = Lasso()"
      ],
      "execution_count": 0,
      "outputs": []
    },
    {
      "cell_type": "code",
      "metadata": {
        "id": "F8EIQQ5ZkS9J",
        "colab_type": "code",
        "outputId": "81a861c1-a558-43b7-8145-e8c76e63da89",
        "colab": {
          "base_uri": "https://localhost:8080/",
          "height": 122
        }
      },
      "source": [
        "model.fit(X_train, y_train)"
      ],
      "execution_count": 0,
      "outputs": [
        {
          "output_type": "stream",
          "text": [
            "/usr/local/lib/python3.6/dist-packages/sklearn/linear_model/_coordinate_descent.py:476: ConvergenceWarning: Objective did not converge. You might want to increase the number of iterations. Duality gap: 3.390874520839249e+18, tolerance: 7515052148515233.0\n",
            "  positive)\n"
          ],
          "name": "stderr"
        },
        {
          "output_type": "execute_result",
          "data": {
            "text/plain": [
              "Lasso(alpha=1.0, copy_X=True, fit_intercept=True, max_iter=1000,\n",
              "      normalize=False, positive=False, precompute=False, random_state=None,\n",
              "      selection='cyclic', tol=0.0001, warm_start=False)"
            ]
          },
          "metadata": {
            "tags": []
          },
          "execution_count": 87
        }
      ]
    },
    {
      "cell_type": "code",
      "metadata": {
        "id": "qcuwtABUkXq_",
        "colab_type": "code",
        "colab": {}
      },
      "source": [
        "predicted = model.predict(X_test)"
      ],
      "execution_count": 0,
      "outputs": []
    },
    {
      "cell_type": "code",
      "metadata": {
        "id": "-XQaWq3xkggD",
        "colab_type": "code",
        "outputId": "dd69f9e8-98c4-4303-b39e-5e42690f7a39",
        "colab": {
          "base_uri": "https://localhost:8080/",
          "height": 34
        }
      },
      "source": [
        "predicted.shape"
      ],
      "execution_count": 0,
      "outputs": [
        {
          "output_type": "execute_result",
          "data": {
            "text/plain": [
              "(1642,)"
            ]
          },
          "metadata": {
            "tags": []
          },
          "execution_count": 90
        }
      ]
    },
    {
      "cell_type": "code",
      "metadata": {
        "id": "gHw5imorkkCh",
        "colab_type": "code",
        "outputId": "a572f95f-85c0-4177-efce-844bfd43d96e",
        "colab": {
          "base_uri": "https://localhost:8080/",
          "height": 278
        }
      },
      "source": [
        "import matplotlib.pyplot as plt\n",
        "%matplotlib inline\n",
        "\n",
        "plt.hist([predicted, y_test]);"
      ],
      "execution_count": 0,
      "outputs": [
        {
          "output_type": "display_data",
          "data": {
            "image/png": "[encoded data removed]",
            "text/plain": [
              "<Figure size 432x288 with 1 Axes>"
            ]
          },
          "metadata": {
            "tags": [],
            "needs_background": "light"
          }
        }
      ]
    },
    {
      "cell_type": "code",
      "metadata": {
        "id": "B2uLR1AUk5eH",
        "colab_type": "code",
        "colab": {}
      },
      "source": [
        "# #Para subir el archivo a colab (Esta linea no la ejecute puesto que estoy en el mismo ipynb)\n",
        "# from google.colab import files\n",
        "# uploaded = files.upload()\n",
        "# #Suben el archivo desde el computador.\n",
        "# import io\n",
        "# X = pd.read_csv(io.BytesIO(uploaded['x.csv']))\n",
        "# #Dataset is now stored in a Pandas Dataframe"
      ],
      "execution_count": 0,
      "outputs": []
    },
    {
      "cell_type": "code",
      "metadata": {
        "id": "AMYV92ahkwzp",
        "colab_type": "code",
        "colab": {}
      },
      "source": [
        "# Link donde explican bien el overfitting y el underfitting\n",
        "\n",
        "https://www.aprendemachinelearning.com/que-es-overfitting-y-underfitting-y-como-solucionarlo/"
      ],
      "execution_count": 0,
      "outputs": []
    },
    {
      "cell_type": "code",
      "metadata": {
        "id": "8fX1Bkyfm6LY",
        "colab_type": "code",
        "outputId": "e9396df7-bc04-4525-f33f-9d04c4451936",
        "colab": {
          "base_uri": "https://localhost:8080/",
          "height": 34
        }
      },
      "source": [
        "model.score(X_test, y_test)"
      ],
      "execution_count": 0,
      "outputs": [
        {
          "output_type": "execute_result",
          "data": {
            "text/plain": [
              "0.8422577757379911"
            ]
          },
          "metadata": {
            "tags": []
          },
          "execution_count": 94
        }
      ]
    },
    {
      "cell_type": "code",
      "metadata": {
        "id": "uW7Yb9pOode3",
        "colab_type": "code",
        "colab": {}
      },
      "source": [
        "# Los residuales son todas las diferencias que hay entre la prediccion y el valor real\n",
        "\n",
        "residuals = y_test - predicted"
      ],
      "execution_count": 0,
      "outputs": []
    },
    {
      "cell_type": "code",
      "metadata": {
        "id": "Lu1ZtR1doq9R",
        "colab_type": "code",
        "outputId": "4d15c546-91d9-4a6b-ef65-cdea8c9dc708",
        "colab": {
          "base_uri": "https://localhost:8080/",
          "height": 306
        }
      },
      "source": [
        "plt.scatter(y_test, residuals)"
      ],
      "execution_count": 0,
      "outputs": [
        {
          "output_type": "execute_result",
          "data": {
            "text/plain": [
              "<matplotlib.collections.PathCollection at 0x7fc6a4e58358>"
            ]
          },
          "metadata": {
            "tags": []
          },
          "execution_count": 96
        },
        {
          "output_type": "display_data",
          "data": {
            "image/png": "[encoded data removed]",
            "text/plain": [
              "<Figure size 432x288 with 1 Axes>"
            ]
          },
          "metadata": {
            "tags": [],
            "needs_background": "light"
          }
        }
      ]
    },
    {
      "cell_type": "code",
      "metadata": {
        "id": "9gMc_TuIo6td",
        "colab_type": "code",
        "colab": {}
      },
      "source": [
        "# Estoy sacando todos los valores negativos convertiendolos en positivos con valores absolutos\n",
        "\n",
        "ap_residuals = np.abs(residuals)/ y_test"
      ],
      "execution_count": 0,
      "outputs": []
    },
    {
      "cell_type": "code",
      "metadata": {
        "id": "3VBUlEsFpOUz",
        "colab_type": "code",
        "outputId": "1589f0d7-609e-4229-f784-5a727d7968a8",
        "colab": {
          "base_uri": "https://localhost:8080/",
          "height": 296
        }
      },
      "source": [
        "plt.scatter(y_test, ap_residuals)"
      ],
      "execution_count": 0,
      "outputs": [
        {
          "output_type": "execute_result",
          "data": {
            "text/plain": [
              "<matplotlib.collections.PathCollection at 0x7fc6a4e58b00>"
            ]
          },
          "metadata": {
            "tags": []
          },
          "execution_count": 99
        },
        {
          "output_type": "display_data",
          "data": {
            "image/png": "[encoded data removed]",
            "text/plain": [
              "<Figure size 432x288 with 1 Axes>"
            ]
          },
          "metadata": {
            "tags": [],
            "needs_background": "light"
          }
        }
      ]
    },
    {
      "cell_type": "code",
      "metadata": {
        "id": "sy21t3vEpdbX",
        "colab_type": "code",
        "colab": {}
      },
      "source": [
        "lap_residuals = np.log(ap_residuals)"
      ],
      "execution_count": 0,
      "outputs": []
    },
    {
      "cell_type": "code",
      "metadata": {
        "id": "fJbcSJWrpphs",
        "colab_type": "code",
        "outputId": "88c5a5db-e027-4eb6-a067-4d9a662bfd62",
        "colab": {
          "base_uri": "https://localhost:8080/",
          "height": 295
        }
      },
      "source": [
        "plt.scatter(y_test, lap_residuals)"
      ],
      "execution_count": 0,
      "outputs": [
        {
          "output_type": "execute_result",
          "data": {
            "text/plain": [
              "<matplotlib.collections.PathCollection at 0x7fc6aaab3f60>"
            ]
          },
          "metadata": {
            "tags": []
          },
          "execution_count": 101
        },
        {
          "output_type": "display_data",
          "data": {
            "image/png": "[encoded data removed]",
            "text/plain": [
              "<Figure size 432x288 with 1 Axes>"
            ]
          },
          "metadata": {
            "tags": [],
            "needs_background": "light"
          }
        }
      ]
    },
    {
      "cell_type": "code",
      "metadata": {
        "id": "cG7aN35jp3Pv",
        "colab_type": "code",
        "outputId": "15f4384f-7683-416f-c17b-74303b142467",
        "colab": {
          "base_uri": "https://localhost:8080/",
          "height": 265
        }
      },
      "source": [
        "# plt.hist(lap_residuals, bins=100, normed=1, histtype='step', cumulative=True);\n",
        "plt.hist(lap_residuals, bins=100, density=True, histtype='step', cumulative=True);"
      ],
      "execution_count": 0,
      "outputs": [
        {
          "output_type": "display_data",
          "data": {
            "image/png": "[encoded data removed]",
            "text/plain": [
              "<Figure size 432x288 with 1 Axes>"
            ]
          },
          "metadata": {
            "tags": [],
            "needs_background": "light"
          }
        }
      ]
    },
    {
      "cell_type": "code",
      "metadata": {
        "id": "fl27Jy35qXIz",
        "colab_type": "code",
        "outputId": "cd59873b-7346-483c-b26e-33a376914b1d",
        "colab": {
          "base_uri": "https://localhost:8080/",
          "height": 286
        }
      },
      "source": [
        "plt.hist(lap_residuals, bins=100, density=True, histtype='step', cumulative=True);\n",
        "plt.axis([-2,0,0,1])\n",
        "np.power(np.exp(1)*np.ones(5), np.linspace(-2,0,5))"
      ],
      "execution_count": 0,
      "outputs": [
        {
          "output_type": "execute_result",
          "data": {
            "text/plain": [
              "array([0.13533528, 0.22313016, 0.36787944, 0.60653066, 1.        ])"
            ]
          },
          "metadata": {
            "tags": []
          },
          "execution_count": 104
        },
        {
          "output_type": "display_data",
          "data": {
            "image/png": "[encoded data removed]",
            "text/plain": [
              "<Figure size 432x288 with 1 Axes>"
            ]
          },
          "metadata": {
            "tags": [],
            "needs_background": "light"
          }
        }
      ]
    }
  ]
}